{
 "cells": [
  {
   "cell_type": "markdown",
   "metadata": {},
   "source": [
    "~ Rhythm Shah\n",
    "\n",
    "~ 1233960561\n",
    "\n",
    "~ 03/04/2025"
   ]
  },
  {
   "cell_type": "markdown",
   "metadata": {},
   "source": [
    "### Code Cell 1 (5%) - Import Required Libraries and Load Data"
   ]
  },
  {
   "cell_type": "code",
   "execution_count": 1,
   "metadata": {
    "execution": {
     "iopub.execute_input": "2025-03-05T06:42:39.963145Z",
     "iopub.status.busy": "2025-03-05T06:42:39.962880Z",
     "iopub.status.idle": "2025-03-05T06:42:39.965569Z",
     "shell.execute_reply": "2025-03-05T06:42:39.965123Z",
     "shell.execute_reply.started": "2025-03-05T06:42:39.963126Z"
    }
   },
   "outputs": [],
   "source": [
    "# !pip install s3fs"
   ]
  },
  {
   "cell_type": "code",
   "execution_count": 2,
   "metadata": {
    "execution": {
     "iopub.execute_input": "2025-03-05T06:42:39.966401Z",
     "iopub.status.busy": "2025-03-05T06:42:39.966091Z",
     "iopub.status.idle": "2025-03-05T06:42:40.011007Z",
     "shell.execute_reply": "2025-03-05T06:42:40.010469Z",
     "shell.execute_reply.started": "2025-03-05T06:42:39.966384Z"
    }
   },
   "outputs": [],
   "source": [
    "import numpy as numpy\n",
    "import pandas as pd\n",
    "import s3fs"
   ]
  },
  {
   "cell_type": "code",
   "execution_count": 3,
   "metadata": {
    "execution": {
     "iopub.execute_input": "2025-03-05T06:42:40.011774Z",
     "iopub.status.busy": "2025-03-05T06:42:40.011553Z",
     "iopub.status.idle": "2025-03-05T06:42:40.381626Z",
     "shell.execute_reply": "2025-03-05T06:42:40.380462Z",
     "shell.execute_reply.started": "2025-03-05T06:42:40.011759Z"
    }
   },
   "outputs": [],
   "source": [
    "df = pd.read_csv('restaurant_reviews_az.csv')[:2000]"
   ]
  },
  {
   "cell_type": "code",
   "execution_count": 4,
   "metadata": {
    "execution": {
     "iopub.execute_input": "2025-03-05T06:42:40.383341Z",
     "iopub.status.busy": "2025-03-05T06:42:40.383081Z",
     "iopub.status.idle": "2025-03-05T06:42:40.388290Z",
     "shell.execute_reply": "2025-03-05T06:42:40.387888Z",
     "shell.execute_reply.started": "2025-03-05T06:42:40.383312Z"
    }
   },
   "outputs": [
    {
     "data": {
      "text/plain": [
       "(2000, 9)"
      ]
     },
     "execution_count": 4,
     "metadata": {},
     "output_type": "execute_result"
    }
   ],
   "source": [
    "df.shape"
   ]
  },
  {
   "cell_type": "markdown",
   "metadata": {},
   "source": [
    "### Code Cell 2 (5%) - Data Preprocessing"
   ]
  },
  {
   "cell_type": "code",
   "execution_count": 5,
   "metadata": {
    "execution": {
     "iopub.execute_input": "2025-03-05T06:42:40.390024Z",
     "iopub.status.busy": "2025-03-05T06:42:40.389867Z",
     "iopub.status.idle": "2025-03-05T06:42:40.408852Z",
     "shell.execute_reply": "2025-03-05T06:42:40.408458Z",
     "shell.execute_reply.started": "2025-03-05T06:42:40.390009Z"
    }
   },
   "outputs": [
    {
     "data": {
      "text/html": [
       "<div>\n",
       "<style scoped>\n",
       "    .dataframe tbody tr th:only-of-type {\n",
       "        vertical-align: middle;\n",
       "    }\n",
       "\n",
       "    .dataframe tbody tr th {\n",
       "        vertical-align: top;\n",
       "    }\n",
       "\n",
       "    .dataframe thead th {\n",
       "        text-align: right;\n",
       "    }\n",
       "</style>\n",
       "<table border=\"1\" class=\"dataframe\">\n",
       "  <thead>\n",
       "    <tr style=\"text-align: right;\">\n",
       "      <th></th>\n",
       "      <th>review_id</th>\n",
       "      <th>user_id</th>\n",
       "      <th>business_id</th>\n",
       "      <th>stars</th>\n",
       "      <th>useful</th>\n",
       "      <th>funny</th>\n",
       "      <th>cool</th>\n",
       "      <th>text</th>\n",
       "      <th>date</th>\n",
       "      <th>Sentiment</th>\n",
       "    </tr>\n",
       "  </thead>\n",
       "  <tbody>\n",
       "    <tr>\n",
       "      <th>0</th>\n",
       "      <td>W2AtefJfe983yRvXfHxGhg</td>\n",
       "      <td>meQCVrrJxwdjS_1BFooTUg</td>\n",
       "      <td>gMpYdAe1lZWDuBRw2bPEhg</td>\n",
       "      <td>5</td>\n",
       "      <td>0</td>\n",
       "      <td>0</td>\n",
       "      <td>0</td>\n",
       "      <td>My first time trying their food. Absolutely de...</td>\n",
       "      <td>2021-04-20 01:53:18</td>\n",
       "      <td>1</td>\n",
       "    </tr>\n",
       "    <tr>\n",
       "      <th>1</th>\n",
       "      <td>9IN97k-8LG5wrbGbp4GG5A</td>\n",
       "      <td>BxFQzm3dB8SVVpITk7Z7jQ</td>\n",
       "      <td>wJmyu7W1K9A_gE8Ed4Bc9w</td>\n",
       "      <td>5</td>\n",
       "      <td>1</td>\n",
       "      <td>0</td>\n",
       "      <td>1</td>\n",
       "      <td>Such a wonderful dinning experience!! Went int...</td>\n",
       "      <td>2020-03-03 19:06:59</td>\n",
       "      <td>1</td>\n",
       "    </tr>\n",
       "    <tr>\n",
       "      <th>2</th>\n",
       "      <td>Z9cSDkJ0J00o25bZxRCbSg</td>\n",
       "      <td>yy81U2zRyL5QEdj8faja1Q</td>\n",
       "      <td>V9XlikTxq0My4gE8LULsjw</td>\n",
       "      <td>4</td>\n",
       "      <td>0</td>\n",
       "      <td>0</td>\n",
       "      <td>0</td>\n",
       "      <td>These are really tough times (June 2020) for r...</td>\n",
       "      <td>2020-06-21 17:28:55</td>\n",
       "      <td>1</td>\n",
       "    </tr>\n",
       "    <tr>\n",
       "      <th>3</th>\n",
       "      <td>jxQ_Z5NDguWsvGO8_o0wKw</td>\n",
       "      <td>LGb9UQFdW9PkDHEUyg30lw</td>\n",
       "      <td>UCMSWPqzXjd7QHq7v8PJjQ</td>\n",
       "      <td>5</td>\n",
       "      <td>1</td>\n",
       "      <td>0</td>\n",
       "      <td>0</td>\n",
       "      <td>Extensive, varied, and delicious menu with ple...</td>\n",
       "      <td>2021-01-02 16:48:42</td>\n",
       "      <td>1</td>\n",
       "    </tr>\n",
       "    <tr>\n",
       "      <th>4</th>\n",
       "      <td>fHQUBXyZ5qKIK_3EsUo3sw</td>\n",
       "      <td>eHFpMUNb1_FlcK-Dl_9cMw</td>\n",
       "      <td>3StNEgKAwpCFR1q0urmJrw</td>\n",
       "      <td>5</td>\n",
       "      <td>0</td>\n",
       "      <td>0</td>\n",
       "      <td>0</td>\n",
       "      <td>Best ramen place in Tucson, from what I've had...</td>\n",
       "      <td>2020-03-08 20:21:29</td>\n",
       "      <td>1</td>\n",
       "    </tr>\n",
       "  </tbody>\n",
       "</table>\n",
       "</div>"
      ],
      "text/plain": [
       "                review_id                 user_id             business_id  \\\n",
       "0  W2AtefJfe983yRvXfHxGhg  meQCVrrJxwdjS_1BFooTUg  gMpYdAe1lZWDuBRw2bPEhg   \n",
       "1  9IN97k-8LG5wrbGbp4GG5A  BxFQzm3dB8SVVpITk7Z7jQ  wJmyu7W1K9A_gE8Ed4Bc9w   \n",
       "2  Z9cSDkJ0J00o25bZxRCbSg  yy81U2zRyL5QEdj8faja1Q  V9XlikTxq0My4gE8LULsjw   \n",
       "3  jxQ_Z5NDguWsvGO8_o0wKw  LGb9UQFdW9PkDHEUyg30lw  UCMSWPqzXjd7QHq7v8PJjQ   \n",
       "4  fHQUBXyZ5qKIK_3EsUo3sw  eHFpMUNb1_FlcK-Dl_9cMw  3StNEgKAwpCFR1q0urmJrw   \n",
       "\n",
       "   stars  useful  funny  cool  \\\n",
       "0      5       0      0     0   \n",
       "1      5       1      0     1   \n",
       "2      4       0      0     0   \n",
       "3      5       1      0     0   \n",
       "4      5       0      0     0   \n",
       "\n",
       "                                                text                 date  \\\n",
       "0  My first time trying their food. Absolutely de...  2021-04-20 01:53:18   \n",
       "1  Such a wonderful dinning experience!! Went int...  2020-03-03 19:06:59   \n",
       "2  These are really tough times (June 2020) for r...  2020-06-21 17:28:55   \n",
       "3  Extensive, varied, and delicious menu with ple...  2021-01-02 16:48:42   \n",
       "4  Best ramen place in Tucson, from what I've had...  2020-03-08 20:21:29   \n",
       "\n",
       "   Sentiment  \n",
       "0          1  \n",
       "1          1  \n",
       "2          1  \n",
       "3          1  \n",
       "4          1  "
      ]
     },
     "execution_count": 5,
     "metadata": {},
     "output_type": "execute_result"
    }
   ],
   "source": [
    "df = df[df['stars'] != 3]\n",
    "\n",
    "df['Sentiment'] = df['stars'].apply(lambda x: 1 if x >= 4 else 0)\n",
    "\n",
    "positive_reviews = df[df['Sentiment'] == 1].sample(n=50, random_state=1)\n",
    "negative_reviews = df[df['Sentiment'] == 0].sample(n=50, random_state=1)\n",
    "\n",
    "df1 = pd.concat([positive_reviews, negative_reviews]).reset_index(drop=True)\n",
    "df1.head()"
   ]
  },
  {
   "cell_type": "code",
   "execution_count": 6,
   "metadata": {
    "execution": {
     "iopub.execute_input": "2025-03-05T06:42:40.409555Z",
     "iopub.status.busy": "2025-03-05T06:42:40.409329Z",
     "iopub.status.idle": "2025-03-05T06:42:40.412607Z",
     "shell.execute_reply": "2025-03-05T06:42:40.412226Z",
     "shell.execute_reply.started": "2025-03-05T06:42:40.409532Z"
    }
   },
   "outputs": [
    {
     "data": {
      "text/plain": [
       "(100, 10)"
      ]
     },
     "execution_count": 6,
     "metadata": {},
     "output_type": "execute_result"
    }
   ],
   "source": [
    "df1.shape"
   ]
  },
  {
   "cell_type": "markdown",
   "metadata": {},
   "source": [
    "### Code Cell 3 (20%) - Perform Sentiment Analysis Using Zero-Shot Learning"
   ]
  },
  {
   "cell_type": "code",
   "execution_count": 7,
   "metadata": {
    "execution": {
     "iopub.execute_input": "2025-03-05T06:42:40.414386Z",
     "iopub.status.busy": "2025-03-05T06:42:40.414176Z",
     "iopub.status.idle": "2025-03-05T06:42:40.465013Z",
     "shell.execute_reply": "2025-03-05T06:42:40.464220Z",
     "shell.execute_reply.started": "2025-03-05T06:42:40.414369Z"
    }
   },
   "outputs": [],
   "source": [
    "import json\n",
    "import boto3\n",
    "\n",
    "client = boto3.client(\"bedrock-runtime\", region_name=\"us-east-1\") \n",
    "model_id='anthropic.claude-3-sonnet-20240229-v1:0'"
   ]
  },
  {
   "cell_type": "code",
   "execution_count": null,
   "metadata": {},
   "outputs": [],
   "source": []
  }
 ],
 "metadata": {
  "kernelspec": {
   "display_name": "Python 3 (ipykernel)",
   "language": "python",
   "name": "python3"
  },
  "language_info": {
   "codemirror_mode": {
    "name": "ipython",
    "version": 3
   },
   "file_extension": ".py",
   "mimetype": "text/x-python",
   "name": "python",
   "nbconvert_exporter": "python",
   "pygments_lexer": "ipython3",
   "version": "3.11.11"
  }
 },
 "nbformat": 4,
 "nbformat_minor": 4
}
