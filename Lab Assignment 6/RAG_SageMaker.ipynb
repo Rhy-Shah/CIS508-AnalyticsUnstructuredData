{
 "cells": [
  {
   "cell_type": "code",
   "execution_count": 1,
   "metadata": {
    "colab": {
     "base_uri": "https://localhost:8080/",
     "height": 1000
    },
    "execution": {
     "iopub.execute_input": "2025-02-26T20:55:15.327315Z",
     "iopub.status.busy": "2025-02-26T20:55:15.327093Z",
     "iopub.status.idle": "2025-02-26T20:55:22.445449Z",
     "shell.execute_reply": "2025-02-26T20:55:22.444751Z",
     "shell.execute_reply.started": "2025-02-26T20:55:15.327296Z"
    },
    "id": "2D620UYsbvK0",
    "outputId": "ddc1b9bd-8e3a-462a-e618-2fec594144aa"
   },
   "outputs": [
    {
     "name": "stdout",
     "output_type": "stream",
     "text": [
      "\u001b[33mWARNING: Ignoring invalid distribution ~ransformers (/opt/conda/lib/python3.11/site-packages)\u001b[0m\u001b[33m\n",
      "\u001b[0mRequirement already satisfied: langchain in /opt/conda/lib/python3.11/site-packages (0.2.17)\n",
      "Requirement already satisfied: langchain-community in /opt/conda/lib/python3.11/site-packages (0.2.19)\n",
      "Requirement already satisfied: langchain_openai in /opt/conda/lib/python3.11/site-packages (0.1.25)\n",
      "Requirement already satisfied: langchain_nvidia_ai_endpoints in /opt/conda/lib/python3.11/site-packages (0.2.2)\n",
      "Requirement already satisfied: PyYAML>=5.3 in /opt/conda/lib/python3.11/site-packages (from langchain) (6.0.2)\n",
      "Requirement already satisfied: SQLAlchemy<3,>=1.4 in /opt/conda/lib/python3.11/site-packages (from langchain) (2.0.37)\n",
      "Requirement already satisfied: aiohttp<4.0.0,>=3.8.3 in /opt/conda/lib/python3.11/site-packages (from langchain) (3.9.5)\n",
      "Requirement already satisfied: langchain-core<0.3.0,>=0.2.43 in /opt/conda/lib/python3.11/site-packages (from langchain) (0.2.43)\n",
      "Requirement already satisfied: langchain-text-splitters<0.3.0,>=0.2.0 in /opt/conda/lib/python3.11/site-packages (from langchain) (0.2.4)\n",
      "Requirement already satisfied: langsmith<0.2.0,>=0.1.17 in /opt/conda/lib/python3.11/site-packages (from langchain) (0.1.147)\n",
      "Requirement already satisfied: numpy<2,>=1 in /opt/conda/lib/python3.11/site-packages (from langchain) (1.26.4)\n",
      "Requirement already satisfied: pydantic<3,>=1 in /opt/conda/lib/python3.11/site-packages (from langchain) (2.10.6)\n",
      "Requirement already satisfied: requests<3,>=2 in /opt/conda/lib/python3.11/site-packages (from langchain) (2.32.3)\n",
      "Requirement already satisfied: tenacity!=8.4.0,<9.0.0,>=8.1.0 in /opt/conda/lib/python3.11/site-packages (from langchain) (8.5.0)\n",
      "Requirement already satisfied: dataclasses-json<0.7,>=0.5.7 in /opt/conda/lib/python3.11/site-packages (from langchain-community) (0.6.7)\n",
      "Requirement already satisfied: openai<2.0.0,>=1.40.0 in /opt/conda/lib/python3.11/site-packages (from langchain_openai) (1.64.0)\n",
      "Requirement already satisfied: tiktoken<1,>=0.7 in /opt/conda/lib/python3.11/site-packages (from langchain_openai) (0.9.0)\n",
      "Requirement already satisfied: pillow<11.0.0,>=10.0.0 in /opt/conda/lib/python3.11/site-packages (from langchain_nvidia_ai_endpoints) (10.4.0)\n",
      "Requirement already satisfied: aiosignal>=1.1.2 in /opt/conda/lib/python3.11/site-packages (from aiohttp<4.0.0,>=3.8.3->langchain) (1.3.2)\n",
      "Requirement already satisfied: attrs>=17.3.0 in /opt/conda/lib/python3.11/site-packages (from aiohttp<4.0.0,>=3.8.3->langchain) (23.2.0)\n",
      "Requirement already satisfied: frozenlist>=1.1.1 in /opt/conda/lib/python3.11/site-packages (from aiohttp<4.0.0,>=3.8.3->langchain) (1.5.0)\n",
      "Requirement already satisfied: multidict<7.0,>=4.5 in /opt/conda/lib/python3.11/site-packages (from aiohttp<4.0.0,>=3.8.3->langchain) (6.1.0)\n",
      "Requirement already satisfied: yarl<2.0,>=1.0 in /opt/conda/lib/python3.11/site-packages (from aiohttp<4.0.0,>=3.8.3->langchain) (1.18.3)\n",
      "Requirement already satisfied: marshmallow<4.0.0,>=3.18.0 in /opt/conda/lib/python3.11/site-packages (from dataclasses-json<0.7,>=0.5.7->langchain-community) (3.26.0)\n",
      "Requirement already satisfied: typing-inspect<1,>=0.4.0 in /opt/conda/lib/python3.11/site-packages (from dataclasses-json<0.7,>=0.5.7->langchain-community) (0.9.0)\n",
      "Requirement already satisfied: jsonpatch<2.0,>=1.33 in /opt/conda/lib/python3.11/site-packages (from langchain-core<0.3.0,>=0.2.43->langchain) (1.33)\n",
      "Requirement already satisfied: packaging<25,>=23.2 in /opt/conda/lib/python3.11/site-packages (from langchain-core<0.3.0,>=0.2.43->langchain) (24.2)\n",
      "Requirement already satisfied: typing-extensions>=4.7 in /opt/conda/lib/python3.11/site-packages (from langchain-core<0.3.0,>=0.2.43->langchain) (4.12.2)\n",
      "Requirement already satisfied: httpx<1,>=0.23.0 in /opt/conda/lib/python3.11/site-packages (from langsmith<0.2.0,>=0.1.17->langchain) (0.28.1)\n",
      "Requirement already satisfied: orjson<4.0.0,>=3.9.14 in /opt/conda/lib/python3.11/site-packages (from langsmith<0.2.0,>=0.1.17->langchain) (3.10.15)\n",
      "Requirement already satisfied: requests-toolbelt<2.0.0,>=1.0.0 in /opt/conda/lib/python3.11/site-packages (from langsmith<0.2.0,>=0.1.17->langchain) (1.0.0)\n",
      "Requirement already satisfied: anyio<5,>=3.5.0 in /opt/conda/lib/python3.11/site-packages (from openai<2.0.0,>=1.40.0->langchain_openai) (4.8.0)\n",
      "Requirement already satisfied: distro<2,>=1.7.0 in /opt/conda/lib/python3.11/site-packages (from openai<2.0.0,>=1.40.0->langchain_openai) (1.9.0)\n",
      "Requirement already satisfied: jiter<1,>=0.4.0 in /opt/conda/lib/python3.11/site-packages (from openai<2.0.0,>=1.40.0->langchain_openai) (0.8.2)\n",
      "Requirement already satisfied: sniffio in /opt/conda/lib/python3.11/site-packages (from openai<2.0.0,>=1.40.0->langchain_openai) (1.3.1)\n",
      "Requirement already satisfied: tqdm>4 in /opt/conda/lib/python3.11/site-packages (from openai<2.0.0,>=1.40.0->langchain_openai) (4.67.1)\n",
      "Requirement already satisfied: annotated-types>=0.6.0 in /opt/conda/lib/python3.11/site-packages (from pydantic<3,>=1->langchain) (0.7.0)\n",
      "Requirement already satisfied: pydantic-core==2.27.2 in /opt/conda/lib/python3.11/site-packages (from pydantic<3,>=1->langchain) (2.27.2)\n",
      "Requirement already satisfied: charset_normalizer<4,>=2 in /opt/conda/lib/python3.11/site-packages (from requests<3,>=2->langchain) (3.4.1)\n",
      "Requirement already satisfied: idna<4,>=2.5 in /opt/conda/lib/python3.11/site-packages (from requests<3,>=2->langchain) (3.10)\n",
      "Requirement already satisfied: urllib3<3,>=1.21.1 in /opt/conda/lib/python3.11/site-packages (from requests<3,>=2->langchain) (1.26.19)\n",
      "Requirement already satisfied: certifi>=2017.4.17 in /opt/conda/lib/python3.11/site-packages (from requests<3,>=2->langchain) (2024.12.14)\n",
      "Requirement already satisfied: greenlet!=0.4.17 in /opt/conda/lib/python3.11/site-packages (from SQLAlchemy<3,>=1.4->langchain) (3.1.1)\n",
      "Requirement already satisfied: regex>=2022.1.18 in /opt/conda/lib/python3.11/site-packages (from tiktoken<1,>=0.7->langchain_openai) (2024.11.6)\n",
      "Requirement already satisfied: httpcore==1.* in /opt/conda/lib/python3.11/site-packages (from httpx<1,>=0.23.0->langsmith<0.2.0,>=0.1.17->langchain) (1.0.7)\n",
      "Requirement already satisfied: h11<0.15,>=0.13 in /opt/conda/lib/python3.11/site-packages (from httpcore==1.*->httpx<1,>=0.23.0->langsmith<0.2.0,>=0.1.17->langchain) (0.14.0)\n",
      "Requirement already satisfied: jsonpointer>=1.9 in /opt/conda/lib/python3.11/site-packages (from jsonpatch<2.0,>=1.33->langchain-core<0.3.0,>=0.2.43->langchain) (3.0.0)\n",
      "Requirement already satisfied: mypy_extensions>=0.3.0 in /opt/conda/lib/python3.11/site-packages (from typing-inspect<1,>=0.4.0->dataclasses-json<0.7,>=0.5.7->langchain-community) (1.0.0)\n",
      "Requirement already satisfied: propcache>=0.2.0 in /opt/conda/lib/python3.11/site-packages (from yarl<2.0,>=1.0->aiohttp<4.0.0,>=3.8.3->langchain) (0.2.1)\n",
      "\u001b[33mWARNING: Ignoring invalid distribution ~ransformers (/opt/conda/lib/python3.11/site-packages)\u001b[0m\u001b[33m\n",
      "\u001b[0m\u001b[33mWARNING: Ignoring invalid distribution ~ransformers (/opt/conda/lib/python3.11/site-packages)\u001b[0m\u001b[33m\n",
      "\u001b[0m\u001b[33mWARNING: Ignoring invalid distribution ~ransformers (/opt/conda/lib/python3.11/site-packages)\u001b[0m\u001b[33m\n",
      "\u001b[0mCollecting sentence-transformers\n",
      "  Using cached sentence_transformers-3.4.1-py3-none-any.whl.metadata (10 kB)\n",
      "Requirement already satisfied: transformers<5.0.0,>=4.41.0 in /opt/conda/lib/python3.11/site-packages (from sentence-transformers) (4.49.0)\n",
      "Requirement already satisfied: tqdm in /opt/conda/lib/python3.11/site-packages (from sentence-transformers) (4.67.1)\n",
      "Requirement already satisfied: torch>=1.11.0 in /opt/conda/lib/python3.11/site-packages (from sentence-transformers) (2.3.1.post300)\n",
      "Requirement already satisfied: scikit-learn in /opt/conda/lib/python3.11/site-packages (from sentence-transformers) (1.5.2)\n",
      "Requirement already satisfied: scipy in /opt/conda/lib/python3.11/site-packages (from sentence-transformers) (1.14.1)\n",
      "Requirement already satisfied: huggingface-hub>=0.20.0 in /opt/conda/lib/python3.11/site-packages (from sentence-transformers) (0.27.1)\n",
      "Requirement already satisfied: Pillow in /opt/conda/lib/python3.11/site-packages (from sentence-transformers) (10.4.0)\n",
      "Requirement already satisfied: filelock in /opt/conda/lib/python3.11/site-packages (from huggingface-hub>=0.20.0->sentence-transformers) (3.17.0)\n",
      "Requirement already satisfied: fsspec>=2023.5.0 in /opt/conda/lib/python3.11/site-packages (from huggingface-hub>=0.20.0->sentence-transformers) (2023.6.0)\n",
      "Requirement already satisfied: packaging>=20.9 in /opt/conda/lib/python3.11/site-packages (from huggingface-hub>=0.20.0->sentence-transformers) (24.2)\n",
      "Requirement already satisfied: pyyaml>=5.1 in /opt/conda/lib/python3.11/site-packages (from huggingface-hub>=0.20.0->sentence-transformers) (6.0.2)\n",
      "Requirement already satisfied: requests in /opt/conda/lib/python3.11/site-packages (from huggingface-hub>=0.20.0->sentence-transformers) (2.32.3)\n",
      "Requirement already satisfied: typing-extensions>=3.7.4.3 in /opt/conda/lib/python3.11/site-packages (from huggingface-hub>=0.20.0->sentence-transformers) (4.12.2)\n",
      "Requirement already satisfied: sympy in /opt/conda/lib/python3.11/site-packages (from torch>=1.11.0->sentence-transformers) (1.13.3)\n",
      "Requirement already satisfied: networkx in /opt/conda/lib/python3.11/site-packages (from torch>=1.11.0->sentence-transformers) (3.4.2)\n",
      "Requirement already satisfied: jinja2 in /opt/conda/lib/python3.11/site-packages (from torch>=1.11.0->sentence-transformers) (3.1.5)\n",
      "Requirement already satisfied: numpy>=1.17 in /opt/conda/lib/python3.11/site-packages (from transformers<5.0.0,>=4.41.0->sentence-transformers) (1.26.4)\n",
      "Requirement already satisfied: regex!=2019.12.17 in /opt/conda/lib/python3.11/site-packages (from transformers<5.0.0,>=4.41.0->sentence-transformers) (2024.11.6)\n",
      "Requirement already satisfied: tokenizers<0.22,>=0.21 in /opt/conda/lib/python3.11/site-packages (from transformers<5.0.0,>=4.41.0->sentence-transformers) (0.21.0)\n",
      "Requirement already satisfied: safetensors>=0.4.1 in /opt/conda/lib/python3.11/site-packages (from transformers<5.0.0,>=4.41.0->sentence-transformers) (0.5.2)\n",
      "Requirement already satisfied: joblib>=1.2.0 in /opt/conda/lib/python3.11/site-packages (from scikit-learn->sentence-transformers) (1.4.2)\n",
      "Requirement already satisfied: threadpoolctl>=3.1.0 in /opt/conda/lib/python3.11/site-packages (from scikit-learn->sentence-transformers) (3.5.0)\n",
      "Requirement already satisfied: MarkupSafe>=2.0 in /opt/conda/lib/python3.11/site-packages (from jinja2->torch>=1.11.0->sentence-transformers) (3.0.2)\n",
      "Requirement already satisfied: charset_normalizer<4,>=2 in /opt/conda/lib/python3.11/site-packages (from requests->huggingface-hub>=0.20.0->sentence-transformers) (3.4.1)\n",
      "Requirement already satisfied: idna<4,>=2.5 in /opt/conda/lib/python3.11/site-packages (from requests->huggingface-hub>=0.20.0->sentence-transformers) (3.10)\n",
      "Requirement already satisfied: urllib3<3,>=1.21.1 in /opt/conda/lib/python3.11/site-packages (from requests->huggingface-hub>=0.20.0->sentence-transformers) (1.26.19)\n",
      "Requirement already satisfied: certifi>=2017.4.17 in /opt/conda/lib/python3.11/site-packages (from requests->huggingface-hub>=0.20.0->sentence-transformers) (2024.12.14)\n",
      "Requirement already satisfied: mpmath<1.4,>=1.1.0 in /opt/conda/lib/python3.11/site-packages (from sympy->torch>=1.11.0->sentence-transformers) (1.3.0)\n",
      "Using cached sentence_transformers-3.4.1-py3-none-any.whl (275 kB)\n",
      "\u001b[33mWARNING: Ignoring invalid distribution ~ransformers (/opt/conda/lib/python3.11/site-packages)\u001b[0m\u001b[33m\n",
      "\u001b[0mInstalling collected packages: sentence-transformers\n",
      "\u001b[33mWARNING: Ignoring invalid distribution ~ransformers (/opt/conda/lib/python3.11/site-packages)\u001b[0m\u001b[33m\n",
      "\u001b[0mSuccessfully installed sentence-transformers-3.4.1\n",
      "\u001b[33mWARNING: Ignoring invalid distribution ~ransformers (/opt/conda/lib/python3.11/site-packages)\u001b[0m\u001b[33m\n",
      "\u001b[0mRequirement already satisfied: transformers in /opt/conda/lib/python3.11/site-packages (4.49.0)\n",
      "Requirement already satisfied: filelock in /opt/conda/lib/python3.11/site-packages (from transformers) (3.17.0)\n",
      "Requirement already satisfied: huggingface-hub<1.0,>=0.26.0 in /opt/conda/lib/python3.11/site-packages (from transformers) (0.27.1)\n",
      "Requirement already satisfied: numpy>=1.17 in /opt/conda/lib/python3.11/site-packages (from transformers) (1.26.4)\n",
      "Requirement already satisfied: packaging>=20.0 in /opt/conda/lib/python3.11/site-packages (from transformers) (24.2)\n",
      "Requirement already satisfied: pyyaml>=5.1 in /opt/conda/lib/python3.11/site-packages (from transformers) (6.0.2)\n",
      "Requirement already satisfied: regex!=2019.12.17 in /opt/conda/lib/python3.11/site-packages (from transformers) (2024.11.6)\n",
      "Requirement already satisfied: requests in /opt/conda/lib/python3.11/site-packages (from transformers) (2.32.3)\n",
      "Requirement already satisfied: tokenizers<0.22,>=0.21 in /opt/conda/lib/python3.11/site-packages (from transformers) (0.21.0)\n",
      "Requirement already satisfied: safetensors>=0.4.1 in /opt/conda/lib/python3.11/site-packages (from transformers) (0.5.2)\n",
      "Requirement already satisfied: tqdm>=4.27 in /opt/conda/lib/python3.11/site-packages (from transformers) (4.67.1)\n",
      "Requirement already satisfied: fsspec>=2023.5.0 in /opt/conda/lib/python3.11/site-packages (from huggingface-hub<1.0,>=0.26.0->transformers) (2023.6.0)\n",
      "Requirement already satisfied: typing-extensions>=3.7.4.3 in /opt/conda/lib/python3.11/site-packages (from huggingface-hub<1.0,>=0.26.0->transformers) (4.12.2)\n",
      "Requirement already satisfied: charset_normalizer<4,>=2 in /opt/conda/lib/python3.11/site-packages (from requests->transformers) (3.4.1)\n",
      "Requirement already satisfied: idna<4,>=2.5 in /opt/conda/lib/python3.11/site-packages (from requests->transformers) (3.10)\n",
      "Requirement already satisfied: urllib3<3,>=1.21.1 in /opt/conda/lib/python3.11/site-packages (from requests->transformers) (1.26.19)\n",
      "Requirement already satisfied: certifi>=2017.4.17 in /opt/conda/lib/python3.11/site-packages (from requests->transformers) (2024.12.14)\n",
      "\u001b[33mWARNING: Ignoring invalid distribution ~ransformers (/opt/conda/lib/python3.11/site-packages)\u001b[0m\u001b[33m\n",
      "\u001b[0m\u001b[33mWARNING: Ignoring invalid distribution ~ransformers (/opt/conda/lib/python3.11/site-packages)\u001b[0m\u001b[33m\n",
      "\u001b[0m\u001b[33mWARNING: Ignoring invalid distribution ~ransformers (/opt/conda/lib/python3.11/site-packages)\u001b[0m\u001b[33m\n",
      "\u001b[0mCollecting pypdf\n",
      "  Using cached pypdf-5.3.0-py3-none-any.whl.metadata (7.2 kB)\n",
      "Using cached pypdf-5.3.0-py3-none-any.whl (300 kB)\n",
      "\u001b[33mWARNING: Ignoring invalid distribution ~ransformers (/opt/conda/lib/python3.11/site-packages)\u001b[0m\u001b[33m\n",
      "\u001b[0mInstalling collected packages: pypdf\n",
      "\u001b[33mWARNING: Ignoring invalid distribution ~ransformers (/opt/conda/lib/python3.11/site-packages)\u001b[0m\u001b[33m\n",
      "\u001b[0mSuccessfully installed pypdf-5.3.0\n",
      "\u001b[33mWARNING: Ignoring invalid distribution ~ransformers (/opt/conda/lib/python3.11/site-packages)\u001b[0m\u001b[33m\n",
      "\u001b[0mRequirement already satisfied: boto3 in /opt/conda/lib/python3.11/site-packages (1.34.162)\n",
      "Requirement already satisfied: botocore<1.35.0,>=1.34.162 in /opt/conda/lib/python3.11/site-packages (from boto3) (1.34.162)\n",
      "Requirement already satisfied: jmespath<2.0.0,>=0.7.1 in /opt/conda/lib/python3.11/site-packages (from boto3) (1.0.1)\n",
      "Requirement already satisfied: s3transfer<0.11.0,>=0.10.0 in /opt/conda/lib/python3.11/site-packages (from boto3) (0.10.4)\n",
      "Requirement already satisfied: python-dateutil<3.0.0,>=2.1 in /opt/conda/lib/python3.11/site-packages (from botocore<1.35.0,>=1.34.162->boto3) (2.9.0.post0)\n",
      "Requirement already satisfied: urllib3!=2.2.0,<3,>=1.25.4 in /opt/conda/lib/python3.11/site-packages (from botocore<1.35.0,>=1.34.162->boto3) (1.26.19)\n",
      "Requirement already satisfied: six>=1.5 in /opt/conda/lib/python3.11/site-packages (from python-dateutil<3.0.0,>=2.1->botocore<1.35.0,>=1.34.162->boto3) (1.17.0)\n",
      "\u001b[33mWARNING: Ignoring invalid distribution ~ransformers (/opt/conda/lib/python3.11/site-packages)\u001b[0m\u001b[33m\n",
      "\u001b[0m\u001b[33mWARNING: Ignoring invalid distribution ~ransformers (/opt/conda/lib/python3.11/site-packages)\u001b[0m\u001b[33m\n",
      "\u001b[0m"
     ]
    }
   ],
   "source": [
    "!pip install langchain langchain-community langchain_openai langchain_nvidia_ai_endpoints\n",
    "\n",
    "!pip install sentence-transformers #for text-Embedding\n",
    "\n",
    "!pip install --upgrade transformers\n",
    "\n",
    "!pip install pypdf\n",
    "\n",
    "!pip install boto3"
   ]
  },
  {
   "cell_type": "code",
   "execution_count": 2,
   "metadata": {
    "colab": {
     "base_uri": "https://localhost:8080/"
    },
    "execution": {
     "iopub.execute_input": "2025-02-26T20:55:22.446634Z",
     "iopub.status.busy": "2025-02-26T20:55:22.446332Z",
     "iopub.status.idle": "2025-02-26T20:55:24.352174Z",
     "shell.execute_reply": "2025-02-26T20:55:24.351632Z",
     "shell.execute_reply.started": "2025-02-26T20:55:22.446608Z"
    },
    "id": "-F0hR01ScZc6",
    "outputId": "155e0b64-ecca-4c4c-a32d-e0033afd8a00"
   },
   "outputs": [
    {
     "name": "stdout",
     "output_type": "stream",
     "text": [
      "Device: cuda\n",
      "Tesla T4\n"
     ]
    }
   ],
   "source": [
    "from langchain.chains import ConversationalRetrievalChain\n",
    "from langchain.document_loaders import PyPDFLoader\n",
    "from langchain.text_splitter import RecursiveCharacterTextSplitter \n",
    "from langchain.embeddings import HuggingFaceEmbeddings \n",
    "import torch\n",
    "from langchain.vectorstores import FAISS\n",
    "\n",
    "device = 'cuda' if torch.cuda.is_available() else 'cpu'\n",
    "\n",
    "print(\"Device:\", device)\n",
    "if device == 'cuda':\n",
    "    print(torch.cuda.get_device_name(0))"
   ]
  },
  {
   "cell_type": "markdown",
   "metadata": {},
   "source": [
    "To run models from Nvidia go to https://build.nvidia.com/explore/discover\n",
    "\n",
    "Create an account & generate an API key.\n"
   ]
  },
  {
   "cell_type": "code",
   "execution_count": 3,
   "metadata": {
    "execution": {
     "iopub.execute_input": "2025-02-26T20:55:24.355502Z",
     "iopub.status.busy": "2025-02-26T20:55:24.354891Z",
     "iopub.status.idle": "2025-02-26T20:55:24.358230Z",
     "shell.execute_reply": "2025-02-26T20:55:24.357760Z",
     "shell.execute_reply.started": "2025-02-26T20:55:24.355471Z"
    }
   },
   "outputs": [],
   "source": [
    "# import getpass\n",
    "# import os\n",
    "# from langchain_openai import ChatOpenAI\n",
    "# from langchain_nvidia_ai_endpoints import ChatNVIDIA\n",
    "\n",
    "# OpenAI\n",
    "# os.environ[\"OPENAI_API_KEY\"] = getpass.getpass()\n",
    "# model=ChatOpenAI(model_name=\"gpt-3.5-turbo\")\n",
    "\n",
    "\n",
    "\n",
    "# nvidia\n",
    "\n",
    "# os.environ['NVIDIA_API_KEY'] = getpass.getpass(\"Enter NVIDIA API Key\")\n",
    "# model = ChatNVIDIA(\n",
    "#   model=\"meta/llama-3.1-405b-instruct\",\n",
    "#   temperature=0.2,\n",
    "#   top_p=0.7,\n",
    "#   max_tokens=1024,\n",
    "# )\n",
    "\n",
    "## Nvidia and OpenAI models Usage:\n",
    "# give some prompt and run below code\n",
    "# prompt='--'\n",
    "# response=model.invoke(prompt)"
   ]
  },
  {
   "cell_type": "code",
   "execution_count": 4,
   "metadata": {
    "colab": {
     "base_uri": "https://localhost:8080/"
    },
    "execution": {
     "iopub.execute_input": "2025-02-26T20:55:24.359314Z",
     "iopub.status.busy": "2025-02-26T20:55:24.358888Z",
     "iopub.status.idle": "2025-02-26T20:55:24.585620Z",
     "shell.execute_reply": "2025-02-26T20:55:24.585082Z",
     "shell.execute_reply.started": "2025-02-26T20:55:24.359286Z"
    },
    "id": "jHSe9sHkcdTt",
    "outputId": "90b05a7b-902d-4add-dc77-6e633723016a"
   },
   "outputs": [],
   "source": [
    "## Bedrock\n",
    "\n",
    "import json\n",
    "import boto3\n",
    "\n",
    "\n",
    "# Creating a bedrock runtime client.\n",
    "\n",
    "client = boto3.client(\"bedrock-runtime\", region_name=\"us-east-1\") \n",
    "\n",
    "# each model has a unique Model Identifier\n",
    "\n",
    "model_id='anthropic.claude-3-sonnet-20240229-v1:0'\n",
    "\n"
   ]
  },
  {
   "cell_type": "markdown",
   "metadata": {
    "id": "W4NLtxOZXUrJ"
   },
   "source": [
    "Extracting the content from the Pdf File.\n",
    "\n",
    "First download the PDF of the syllabus page by clicking print-> Destination: Save as PDF.\n",
    "\n",
    "Then upload the pdf file to the colab runtime or gdrive.\n",
    "\n",
    "Update the `pdf_path`.\n"
   ]
  },
  {
   "cell_type": "code",
   "execution_count": 5,
   "metadata": {
    "execution": {
     "iopub.execute_input": "2025-02-26T20:55:24.590031Z",
     "iopub.status.busy": "2025-02-26T20:55:24.589619Z",
     "iopub.status.idle": "2025-02-26T20:55:24.818946Z",
     "shell.execute_reply": "2025-02-26T20:55:24.818394Z",
     "shell.execute_reply.started": "2025-02-26T20:55:24.590008Z"
    },
    "id": "cfMynChTRgi6"
   },
   "outputs": [
    {
     "name": "stdout",
     "output_type": "stream",
     "text": [
      "Downloaded dzd_5l5kah6gnsnq3r/bzbm82rtfbxpgn/dev/Syllabus.pdf to ./Syllabus.pdf\n"
     ]
    }
   ],
   "source": [
    "import boto3\n",
    "\n",
    "bucket_name = \"amazon-sagemaker-058264306111-us-east-1-e23504aef6c5\"\n",
    "object_key = \"dzd_5l5kah6gnsnq3r/bzbm82rtfbxpgn/dev/Syllabus.pdf\"\n",
    "local_file_path = \"./Syllabus.pdf\"  # Temporary storage in SageMaker\n",
    "\n",
    "# Initialize S3 client (uses the IAM role attached to SageMaker)\n",
    "s3_client = boto3.client(\"s3\")\n",
    "\n",
    "# Download the PDF from S3\n",
    "s3_client.download_file(bucket_name, object_key, local_file_path)\n",
    "print(f\"Downloaded {object_key} to {local_file_path}\")"
   ]
  },
  {
   "cell_type": "code",
   "execution_count": 6,
   "metadata": {
    "execution": {
     "iopub.execute_input": "2025-02-26T20:55:24.820017Z",
     "iopub.status.busy": "2025-02-26T20:55:24.819696Z",
     "iopub.status.idle": "2025-02-26T20:55:25.068357Z",
     "shell.execute_reply": "2025-02-26T20:55:25.067792Z",
     "shell.execute_reply.started": "2025-02-26T20:55:24.819989Z"
    },
    "id": "2PGZNbdLujlb"
   },
   "outputs": [],
   "source": [
    "pdf_path = \"./Syllabus.pdf\"\n",
    "loader = PyPDFLoader(pdf_path)\n",
    "documents = loader.load()"
   ]
  },
  {
   "cell_type": "code",
   "execution_count": 7,
   "metadata": {
    "colab": {
     "base_uri": "https://localhost:8080/"
    },
    "execution": {
     "iopub.execute_input": "2025-02-26T20:55:25.069748Z",
     "iopub.status.busy": "2025-02-26T20:55:25.069123Z",
     "iopub.status.idle": "2025-02-26T20:55:25.073847Z",
     "shell.execute_reply": "2025-02-26T20:55:25.073354Z",
     "shell.execute_reply.started": "2025-02-26T20:55:25.069714Z"
    },
    "id": "XD1hdEfL1uv7",
    "outputId": "de14aa85-5c5f-4758-dde4-a612d25cdb34"
   },
   "outputs": [
    {
     "name": "stdout",
     "output_type": "stream",
     "text": [
      "[Document(metadata={'source': './Syllabus.pdf', 'page': 0}, page_content='Course Syllabus\\nJump to Today \\uea69  Edit\\nCIS 509: Analytics for Unstructured Data\\nSpring 2025\\n \\nInstructor of Record\\nXiao Liu, Ph.D.\\nAssistant Professor\\nDepartment of Information Systems\\nEmail: xiao.liu.10@asu.edu (mailto:xiao.liu.10@asu.edu)\\nOffice: BAC 662\\n \\nCourse Teaching Aide\\nSai Teja Alasyam\\nMaster in Computer Science\\nEmail: salasya2@asu.edu (mailto:salasya2@asu.edu)\\n \\nVirtual Office Hours\\nTeaching aide:\\nTime: TBD\\nZoom: TBD\\nInstructor: Xiao Liu\\nTime: 5:00 pm - 6:00 pm on Friday or by appointment \\nZoom: https://asu.zoom.us/my/xiaoliu (https://asu.zoom.us/my/xiaoliu)\\n (https://asu.zoom.us/my/xiaoliu)  \\n1/9/25, 11:09 PM Syllabus for CIS 509: Analytics Unstructured Data (2025 Spring DYN)\\nhttps://canvas.asu.edu/courses/211724/assignments/syllabus 1/11'), Document(metadata={'source': './Syllabus.pdf', 'page': 1}, page_content='Course Description\\nThe terms “deep learning” and “Gen AI” are among the newest managerial buzzwords. Behind the hype\\nassociated with these terms, some leading firms believe they are experiencing a fundamental shift in\\nhow they collect, analyze, and use data to differentiate themselves and build value for their customers.\\nThis change is being seen in large established firms like GE that are embracing big data and analytics\\nand much newer firms like Palantir that were built around the opportunity that big data and AI present.\\nIDC expects firm spending across various industries on analytics and AI to increase from $85.3 billion in\\n2021 to more than $204 billion in 2025.\\nThis course will combine hands-on experience with relevant readings to explore the strategies behind\\ndeep learning, AI, unstructured data analytics, and data science that drive decision-making and how\\nsuch strategies can lead to long-term competitive advantage. We will discuss the perspective that big\\ndata, deep learning, AI, and analytics are a revolutionary shift in some businesses as well as the counter\\nperspective that they are an evolution of many decades of effort in “traditional” analytics or business\\nintelligence. Upon completion of the course, you will be familiar with how analytics, big data, deep\\nlearning, and AI are changing the playing field for firms in order to build competitive advantage. You will\\nbe able to create a big data strategy for an organization and identify the tools and technologies, as well\\nas the skill sets required to achieve success. You will also be able to pose interesting and relevant\\nbusiness-based research questions and understand the general analytical approaches to answering\\nthem.\\n \\nW. P. Carey School of Business Learning Goals\\nThe W.P. Carey School of Business has established the following learning goals for its graduate\\nstudents:\\n1. Critical Thinking\\n2. Communication\\n3. Discipline Specific Knowledge\\n4. Ethical Leadership or Global Leadership\\nItems in bold have significant coverage in this course.\\n \\nCourse Objectives\\nAt the end of this course, you will be able to:\\nExplain how various firms, industries, and organizational functions are deriving value and building\\ncompetitive advantage using big data, AI, and analytics-based decision-making\\n1/9/25, 11:09 PM Syllabus for CIS 509: Analytics Unstructured Data (2025 Spring DYN)\\nhttps://canvas.asu.edu/courses/211724/assignments/syllabus 2/11'), Document(metadata={'source': './Syllabus.pdf', 'page': 2}, page_content='Engage in projects related to data science, analytics, and big data concepts and their associated\\ntechnologies\\nExplain how competitive forces and market opportunities are changing with the continued adoption of\\nbig data, AI, and analytics\\nUnderstand how analytics can be a key component of both product design and functionality (machine\\nlearning and AI)\\nUnderstand and predict future directions in analytics, AI, big data, and associated technologies\\nIdentify and understand ethical issues in analytics\\nCompose and address research questions that contribute to firm value\\n \\nPrerequisite for the Course\\nProgramming experience in selected modern computing languages and CIS 508 Data Mining I.\\n \\nTextbook and Course Materials\\nNo textbook is prescribed for the course. Readings and other course materials will be available via\\nexternal links on Canvas. This course will use the open-source computing environment Python for the\\nterm project. Installation and usage instructions will be provided in class. Supplemental materials may be\\nposted on Canvas during the course as needed.\\n \\nTentative Course Schedule\\n \\nWeek Topic Hands-on Exercise \\n1\\nIntroduction to Unstructured Data Analytics \\nText Processing Techniques\\nLab 1: Text Processing\\nTechniques \\n2\\nText Classification with Naive Bayes\\nSentiment Analysis \\nFoundations of Deep Learning\\nLab 2: Sentiment Analysis \\n1/9/25, 11:09 PM Syllabus for CIS 509: Analytics Unstructured Data (2025 Spring DYN)\\nhttps://canvas.asu.edu/courses/211724/assignments/syllabus 3/11'), Document(metadata={'source': './Syllabus.pdf', 'page': 3}, page_content='3\\nSingle Neuron & Feedforward Neural Networks\\nGradient Descent \\nVector Representation of Words \\nLab 3: Foundations of Deep\\nLearning\\n4\\nRecurrent Neural Networks Architectures and\\nApplications\\nLSTM and GRU\\nLab 4: Deep Learning-based\\nSentiment Analysis \\n5\\nAttention mechanism \\nTransformer Architectures\\nLab 5: Topic Modeling with\\nBERTopic\\n6\\nLarge Language Model-based Applications \\nTopic Modeling with BERT\\nText Classification with BERT\\n \\n7\\nLarge Language Model-based Applications \\nPrompt Tuning\\nFine Tuning \\nMulti-agent LLMs\\nRetrieval-augmented generation\\nProject Workday and Discussion\\nLab 6: Applications with LLMs\\n8 Project Final Presentations  \\n \\nGrading\\nEach student’s total course score ranges from zero to 100.  Letter Grades are derived from your total\\ncourse scores as follows:\\nGrade Min ScoreMax Score\\nA+ 98 100\\n1/9/25, 11:09 PM Syllabus for CIS 509: Analytics Unstructured Data (2025 Spring DYN)\\nhttps://canvas.asu.edu/courses/211724/assignments/syllabus 4/11'), Document(metadata={'source': './Syllabus.pdf', 'page': 4}, page_content='A 93 < 98\\nA- 90 < 93\\nB+ 88 < 90\\nB 83 < 88\\nB- 80 < 83\\nC+ 78 < 80\\nC 70 < 78\\nD 60 < 70\\nE/Fail  < 60\\nAssessment\\nThe following is a description of each type of assessment for this course.\\n Assessment ParticipationTotal Points Weight\\nPercentage \\nLab Assignments (6)\\nText Processing Techniques \\nSentiment Analysis \\nFoundations of Deep Learning\\nDeep Learning based Sentiment\\nAnalysis \\nTopic Modeling with BERT\\nApplications with LLMs\\nIndividual 60 60%\\nCourse Project (1)\\nExploratory Data Analysis (10 points)\\nProject Presentation (30 points)\\nTeam 40 40%\\n1/9/25, 11:09 PM Syllabus for CIS 509: Analytics Unstructured Data (2025 Spring DYN)\\nhttps://canvas.asu.edu/courses/211724/assignments/syllabus 5/11'), Document(metadata={'source': './Syllabus.pdf', 'page': 5}, page_content='Total 100 100%\\n \\n1. Lab Assignments (Individual) There will be six stand-alone lab assignments in this course. In our\\nclasses, we will have Python code examples to demonstrate how to leverage data analytics methods for\\nunstructured data analyses. The lab assignments will provide you opportunity to practice these methods\\non a dataset relevant to your course project.\\n \\n2. Course Project (Team) One of the major goals of this course is to offer hands-on data analytics\\nexperience. The term project is intended to provide such experience by having students process data\\nand perform analyses including text mining, network analysis, machine learning, or other statistical\\ninferences. This course will be using Python for the term project. An overview of the project will be\\nprovided in lecture slides. The project is meant to evolve weekly during the duration of this course. There\\nare three deliverables tied to project milestones: project proposal, exploratory data analyses, and final\\nproject presentation. \\n \\nStudent Responsibilities\\nAttendance \\nEveryone is required to attend classes in person. Zoom attendance is not an option. An online session\\nis not a substitute for an immersion session in most cases. Just like different business meetings, each\\nprogram modality, even hybrid ones, differ in regards to pedagogical approaches dramatically, so\\nunfortunately learning outcomes promised in a program are often not attained the same way across\\ndifferent media. \\n \\nExceptional cases for accommodations apply. ASU has predetermined exceptions that we list below for\\nyour awareness. We specify situations in which students CAN EXPECT vs those they MUST NOT\\nEXPECT accommodations. \\nCAN EXPECT ACCOMMODATIONS:   \\n1. ASU-sanctioned reasons: Jury / military duty, Religious holidays, Health impediments\\n2. Student Accessibility and Inclusive Learning needs (SAILS)\\n3. ONE ONLY event per term per student for any career-related absence (e.g. WPC supported affinity\\nconferences, career fair participation, or job-related travels). \\n \\nMUST NOT EXPECT ACCOMMODATIONS:\\n1/9/25, 11:09 PM Syllabus for CIS 509: Analytics Unstructured Data (2025 Spring DYN)\\nhttps://canvas.asu.edu/courses/211724/assignments/syllabus 6/11'), Document(metadata={'source': './Syllabus.pdf', 'page': 6}, page_content='1. Personal reasons of various kinds, no matter what nature \\n2. More than one career-related absence per term per student\\n \\nShould you have to miss a class in such cases only, professors can offer “suitable accommodations”,\\nwhich may or may not include Zoom attendance. The accommodations, if available, are to cover one\\nclass only, not more. Should you need exceptions for a longer period of time, please contact your\\nprogram operations staff, and / or your Associate Dean, Luiz.Mesquita@asu.edu\\n(mailto:Luiz.Mesquita@asu.edu) . \\n \\nAssignment Timeliness\\nAt the W. P. Carey School of Business Graduate Programs, “delivering assignments on time” is part of\\nthe assignment. Submitting an assignment late means the student failed the assignment at least in part,\\nand in some cases, entirely. Per ASU, students who turn in assignments on time are to have higher\\ngrades than those who turn in assignments late, and because grades are capped at the top, lateness will\\nnecessarily involve a grade penalty.\\n \\nWe allow late submissions of your assignments up to three days after the deadline. Each day in delay\\nhas a 10% grade penalty toward the total grade of the assignment. \\nCommunicating and Behaving Professionally\\nA hallmark of a W. P. Carey education is that everyone is courteous and professional when\\ncommunicating with each other. Soft skills listed in the code of professionalism represent that standard.\\nAll interactions with your peers, staff, and faculty are to follow that standard. It is ok to disagree with\\neach other on the basis of ideas, but it is not ok to be disagreeable. \\n \\nThe Graduate Programs Office takes the Professionalism Code very seriously because our mission is to\\nensure professionals who graduate from our programs continue to build up on our reputable brand,\\nwhich stands for “Business is Personal”. Please make yourself familiar with the Code, as those falling\\nshort of such standards are subject to disciplinary effects.\\n \\nW. P. Carey School of Business Honor Code\\nUnethical behavior by corporations has been linked with negative performance outcomes; the same is\\ntrue of unethical student behavior. It is expected that students will neither participate in nor condone\\nactivities such as cheating or plagiarism. You are expected to do your own work on all individual\\n1/9/25, 11:09 PM Syllabus for CIS 509: Analytics Unstructured Data (2025 Spring DYN)\\nhttps://canvas.asu.edu/courses/211724/assignments/syllabus 7/11'), Document(metadata={'source': './Syllabus.pdf', 'page': 7}, page_content='exercises, quizzes, and exams. Students are encouraged to speak to other students about the issues,\\nbut do not share work or answers. Failure to follow this policy may result in zero points for both the\\nreceiver and provider (if involved). Also, the instructor may take any other action described in the current\\nacademic integrity policy. By placing their names on assignments, students are affirming that the\\ncontents are their original work. Consulting work done by students in this course in other platforms or in\\nprevious years is a violation of academic integrity. This policy will be vigorously enforced. Sharing work\\nyou do in this course with others, whether in the course with you or not, can tempt others to violate this\\nacademic integrity policy and can result in that student’s failure in the course and dismissal from his/her\\nprogram.\\n \\nUse of Generative AI is Generally Permitted Within Guidelines\\nArtificial Intelligence (AI), including ChatGPT, are being used in workplaces all over the world to save\\ntime and improve outcomes by generating text, images, computer code, audio, or other media. Use of AI\\ntools is generally welcome in this class with attribution aligned with disciplinary guidelines. AI tools might\\nbe employed to brainstorm, draft, edit, revise, etc.  Any submitted course assignment not explicitly\\nidentified as having used generative AI will be assumed to be your original work. Using AI tools to\\ngenerate content without proper attribution will be considered a violation of the ASU Academic Integrity\\nPolicy, and students may be sanctioned for confirmed, non-allowable use. If at any point you have\\nquestions about what is permitted, contact the instructor to discuss before submitting work. \\n \\nAcademic Integrity and Ethical Behavior\\nA student who engages in academic misconduct as outlined in ASU’s academic integrity policy\\n(http://provost.asu.edu/academicintegrity) while attending a graduate program will receive strict\\npenalties. Those penalties ordinarily will range from a letter reduction in final course grade to expulsion\\nfrom the program and School of Business. The penalty will be decided by the course faculty member\\nand the Assistant Dean of Academic Affairs. All allegations of academic misconduct must be reported to\\nprogram administrators. Any subsequent act of academic misconduct, regardless of severity, will result in\\ndismissal from the program and the School of Business.\\n \\nInstructor Absence Policy\\nThis is from ACD 304-10:\\n“How Long Students Should Wait for an Absent Instructor: In the event the instructor fails to indicate a\\ntime obligation, the time obligation will be 15 minutes for class sessions lasting 90 minutes or less, and\\n1/9/25, 11:09 PM Syllabus for CIS 509: Analytics Unstructured Data (2025 Spring DYN)\\nhttps://canvas.asu.edu/courses/211724/assignments/syllabus 8/11'), Document(metadata={'source': './Syllabus.pdf', 'page': 8}, page_content='30 minutes for class sessions lasting more than 90 minutes. Students may be directed to wait longer by\\nsomeone from the academic unit if they know the instructor will arrive shortly.”\\n \\nReligious Accommodations\\nAccommodations will be made for students with religious holidays.  Below is a link to the calendar of\\nofficial religious holidays.  Each holiday noted with two asterisks denotes an observance for which work\\nis not allowed.  For these holidays, students will not be penalized in any way for missing class or\\nassignments.  This means that this will not count as an absence in class and they will be granted a\\nmakeup assignment or exam, etc. \\nhttps://eoss.asu.edu/cora/holidays (https://eoss.asu.edu/cora/holidays)\\nAll requests for accommodation must be submitted by the end of the second week of class. \\n \\nUniversity-Sanctioned Activities\\nAccommodations will be made for students who miss class related to university-sanctioned activities\\naccording to ACD 304-02. If you are participating in a university-sanctioned activity, please let your\\ninstructor know as early in the course as possible so that accommodations can be made.\\n \\nThreatening Behavior Policy\\nThe university takes threatening behavior very seriously, and these situations will be handled in\\naccordance with the Student Services Manual, SSM 104-02\\nhttp://www.asu.edu/aad/manuals/ssm/ssm104-02.html (http://www.asu.edu/aad/manuals/ssm/ssm104-\\n02.html)\\n \\nDisability Accommodations\\nIf you need accommodation for a disability, you must register with the Student Accessibility and Inclusive\\nLearning Services (SAILS).\\n \\nCopyrighted Materials\\n1/9/25, 11:09 PM Syllabus for CIS 509: Analytics Unstructured Data (2025 Spring DYN)\\nhttps://canvas.asu.edu/courses/211724/assignments/syllabus 9/11'), Document(metadata={'source': './Syllabus.pdf', 'page': 9}, page_content='Course Summary:\\nDate Details Due\\nSun Jan 26, 2025\\n\\uea1f  Lab Assignment 1 - Text\\nProcessing Techniques\\n(https://canvas.asu.edu/courses/211724/assignments/5883464)\\ndue by 11:59pm\\n\\uea1f  Project Proposal Submission\\n(https://canvas.asu.edu/courses/211724/assignments/5883480) due by 11:59pm\\nUnless otherwise stated by the instructor, all viewgraphs, lecture notes, data files, publications,\\nexam/quiz/homework answer keys, and all other materials provided by the instructor are copyrighted\\nmaterials and are provided for sole use by the students as study aids. These materials, as well as notes\\ntaken by students during the course, are not to be sold, copied, posted on a public network, or otherwise\\ndistributed.\\n \\nTitle IX, Sexual Harassment & Violence\\nTitle IX is a federal law that provides that no person be excluded on the basis of sex from participation in,\\nbe denied benefits of, or be subjected to discrimination under any education program or activity.  Both\\nTitle IX and university policy make clear that sexual violence and harassment based on sex are\\nprohibited.  An individual who believes they have been subjected to sexual violence or harassed on the\\nbasis of sex can seek support, including counseling and academic support, from the university. If you or\\nsomeone you know has been harassed on the basis of sex or sexually assaulted, you can find\\ninformation and resources at https://sexualviolenceprevention.asu.edu/faqs\\n(https://sexualviolenceprevention.asu.edu/faqs) .\\n \\nAs a mandated reporter, I am obligated to report any information I become aware of regarding alleged\\nacts of sexual discrimination, including sexual violence and dating violence.  ASU Counseling Services,\\nhttps://eoss.asu.edu/ (https://eoss.asu.edu/) counseling, is available if you wish to discuss any concerns\\nconfidentially and privately.\\n \\nInformation contained within this syllabus (except grading and absence policies) is subject to\\nchange.\\n \\n1/9/25, 11:09 PM Syllabus for CIS 509: Analytics Unstructured Data (2025 Spring DYN)\\nhttps://canvas.asu.edu/courses/211724/assignments/syllabus 10/11'), Document(metadata={'source': './Syllabus.pdf', 'page': 10}, page_content='Date Details Due\\nSun Feb 2, 2025 \\uea1f  Lab Assignment 2 - Sentiment\\nAnalysis\\n(https://canvas.asu.edu/courses/211724/assignments/5883466)\\ndue by 11:59pm\\nSun Feb 9, 2025 \\uea1f  Exploratory Data Analysis\\n(https://canvas.asu.edu/courses/211724/assignments/5883461) due by 11:59pm\\nSun Feb 16, 2025\\n\\uea1f  Lab Assignment 3 -\\nFoundations of Deep Learning\\n(https://canvas.asu.edu/courses/211724/assignments/5883470)\\ndue by 11:59pm\\n\\uea1f  Peer Evaluation 1\\n(https://canvas.asu.edu/courses/211724/assignments/5883476) due by 11:59pm\\nSun Feb 23, 2025 \\uea1f  Lab Assignment 4 - Text\\nClassification with Deep Learning\\n(https://canvas.asu.edu/courses/211724/assignments/5883472)\\ndue by 11:59pm\\nSun Mar 2, 2025 \\uea1f  Lab Assignment 5 - Topic\\nModeling with BERT\\n(https://canvas.asu.edu/courses/211724/assignments/5883474)\\ndue by 11:59pm\\nWed Mar 5, 2025\\n\\uea1f  Final Project Submission\\n(https://canvas.asu.edu/courses/211724/assignments/5883463) due by 11:59pm\\n\\uea1f  Peer Evaluation 2\\n(https://canvas.asu.edu/courses/211724/assignments/5883478) due by 11:59pm\\n\\uea1f  Lab Assignment 6 -\\nApplications of LLMs\\n(https://canvas.asu.edu/courses/211724/assignments/5979193)\\n \\n1/9/25, 11:09 PM Syllabus for CIS 509: Analytics Unstructured Data (2025 Spring DYN)\\nhttps://canvas.asu.edu/courses/211724/assignments/syllabus 11/11')]\n"
     ]
    }
   ],
   "source": [
    "print(documents)"
   ]
  },
  {
   "cell_type": "markdown",
   "metadata": {
    "id": "OhvrF2md1UXO"
   },
   "source": [
    "When you the print the loaded document above you find that it a dictionary of Document objects with page_content split across the indices. We need to seggregate the page_content into one so that model will have full page_content as context."
   ]
  },
  {
   "cell_type": "code",
   "execution_count": 8,
   "metadata": {
    "execution": {
     "iopub.execute_input": "2025-02-26T20:55:25.076338Z",
     "iopub.status.busy": "2025-02-26T20:55:25.076154Z",
     "iopub.status.idle": "2025-02-26T20:55:25.083393Z",
     "shell.execute_reply": "2025-02-26T20:55:25.082844Z",
     "shell.execute_reply.started": "2025-02-26T20:55:25.076319Z"
    },
    "id": "xhqWrveUvVJb"
   },
   "outputs": [
    {
     "data": {
      "text/plain": [
       "[Document(page_content='Course Syllabus\\nJump to Today \\uea69  Edit\\nCIS 509: Analytics for Unstructured Data\\nSpring 2025\\n \\nInstructor of Record\\nXiao Liu, Ph.D.\\nAssistant Professor\\nDepartment of Information Systems\\nEmail: xiao.liu.10@asu.edu (mailto:xiao.liu.10@asu.edu)\\nOffice: BAC 662\\n \\nCourse Teaching Aide\\nSai Teja Alasyam\\nMaster in Computer Science\\nEmail: salasya2@asu.edu (mailto:salasya2@asu.edu)\\n \\nVirtual Office Hours\\nTeaching aide:\\nTime: TBD\\nZoom: TBD\\nInstructor: Xiao Liu\\nTime: 5:00 pm - 6:00 pm on Friday or by appointment \\nZoom: https://asu.zoom.us/my/xiaoliu (https://asu.zoom.us/my/xiaoliu)\\n (https://asu.zoom.us/my/xiaoliu)  \\n1/9/25, 11:09 PM Syllabus for CIS 509: Analytics Unstructured Data (2025 Spring DYN)\\nhttps://canvas.asu.edu/courses/211724/assignments/syllabus 1/11Course Description\\nThe terms “deep learning” and “Gen AI” are among the newest managerial buzzwords. Behind the hype\\nassociated with these terms, some leading firms believe they are experiencing a fundamental shift in\\nhow they collect, analyze, and use data to differentiate themselves and build value for their customers.\\nThis change is being seen in large established firms like GE that are embracing big data and analytics\\nand much newer firms like Palantir that were built around the opportunity that big data and AI present.\\nIDC expects firm spending across various industries on analytics and AI to increase from $85.3 billion in\\n2021 to more than $204 billion in 2025.\\nThis course will combine hands-on experience with relevant readings to explore the strategies behind\\ndeep learning, AI, unstructured data analytics, and data science that drive decision-making and how\\nsuch strategies can lead to long-term competitive advantage. We will discuss the perspective that big\\ndata, deep learning, AI, and analytics are a revolutionary shift in some businesses as well as the counter\\nperspective that they are an evolution of many decades of effort in “traditional” analytics or business\\nintelligence. Upon completion of the course, you will be familiar with how analytics, big data, deep\\nlearning, and AI are changing the playing field for firms in order to build competitive advantage. You will\\nbe able to create a big data strategy for an organization and identify the tools and technologies, as well\\nas the skill sets required to achieve success. You will also be able to pose interesting and relevant\\nbusiness-based research questions and understand the general analytical approaches to answering\\nthem.\\n \\nW. P. Carey School of Business Learning Goals\\nThe W.P. Carey School of Business has established the following learning goals for its graduate\\nstudents:\\n1. Critical Thinking\\n2. Communication\\n3. Discipline Specific Knowledge\\n4. Ethical Leadership or Global Leadership\\nItems in bold have significant coverage in this course.\\n \\nCourse Objectives\\nAt the end of this course, you will be able to:\\nExplain how various firms, industries, and organizational functions are deriving value and building\\ncompetitive advantage using big data, AI, and analytics-based decision-making\\n1/9/25, 11:09 PM Syllabus for CIS 509: Analytics Unstructured Data (2025 Spring DYN)\\nhttps://canvas.asu.edu/courses/211724/assignments/syllabus 2/11Engage in projects related to data science, analytics, and big data concepts and their associated\\ntechnologies\\nExplain how competitive forces and market opportunities are changing with the continued adoption of\\nbig data, AI, and analytics\\nUnderstand how analytics can be a key component of both product design and functionality (machine\\nlearning and AI)\\nUnderstand and predict future directions in analytics, AI, big data, and associated technologies\\nIdentify and understand ethical issues in analytics\\nCompose and address research questions that contribute to firm value\\n \\nPrerequisite for the Course\\nProgramming experience in selected modern computing languages and CIS 508 Data Mining I.\\n \\nTextbook and Course Materials\\nNo textbook is prescribed for the course. Readings and other course materials will be available via\\nexternal links on Canvas. This course will use the open-source computing environment Python for the\\nterm project. Installation and usage instructions will be provided in class. Supplemental materials may be\\nposted on Canvas during the course as needed.\\n \\nTentative Course Schedule\\n \\nWeek Topic Hands-on Exercise \\n1\\nIntroduction to Unstructured Data Analytics \\nText Processing Techniques\\nLab 1: Text Processing\\nTechniques \\n2\\nText Classification with Naive Bayes\\nSentiment Analysis \\nFoundations of Deep Learning\\nLab 2: Sentiment Analysis \\n1/9/25, 11:09 PM Syllabus for CIS 509: Analytics Unstructured Data (2025 Spring DYN)\\nhttps://canvas.asu.edu/courses/211724/assignments/syllabus 3/113\\nSingle Neuron & Feedforward Neural Networks\\nGradient Descent \\nVector Representation of Words \\nLab 3: Foundations of Deep\\nLearning\\n4\\nRecurrent Neural Networks Architectures and\\nApplications\\nLSTM and GRU\\nLab 4: Deep Learning-based\\nSentiment Analysis \\n5\\nAttention mechanism \\nTransformer Architectures\\nLab 5: Topic Modeling with\\nBERTopic\\n6\\nLarge Language Model-based Applications \\nTopic Modeling with BERT\\nText Classification with BERT\\n \\n7\\nLarge Language Model-based Applications \\nPrompt Tuning\\nFine Tuning \\nMulti-agent LLMs\\nRetrieval-augmented generation\\nProject Workday and Discussion\\nLab 6: Applications with LLMs\\n8 Project Final Presentations  \\n \\nGrading\\nEach student’s total course score ranges from zero to 100.  Letter Grades are derived from your total\\ncourse scores as follows:\\nGrade Min ScoreMax Score\\nA+ 98 100\\n1/9/25, 11:09 PM Syllabus for CIS 509: Analytics Unstructured Data (2025 Spring DYN)\\nhttps://canvas.asu.edu/courses/211724/assignments/syllabus 4/11A 93 < 98\\nA- 90 < 93\\nB+ 88 < 90\\nB 83 < 88\\nB- 80 < 83\\nC+ 78 < 80\\nC 70 < 78\\nD 60 < 70\\nE/Fail  < 60\\nAssessment\\nThe following is a description of each type of assessment for this course.\\n Assessment ParticipationTotal Points Weight\\nPercentage \\nLab Assignments (6)\\nText Processing Techniques \\nSentiment Analysis \\nFoundations of Deep Learning\\nDeep Learning based Sentiment\\nAnalysis \\nTopic Modeling with BERT\\nApplications with LLMs\\nIndividual 60 60%\\nCourse Project (1)\\nExploratory Data Analysis (10 points)\\nProject Presentation (30 points)\\nTeam 40 40%\\n1/9/25, 11:09 PM Syllabus for CIS 509: Analytics Unstructured Data (2025 Spring DYN)\\nhttps://canvas.asu.edu/courses/211724/assignments/syllabus 5/11Total 100 100%\\n \\n1. Lab Assignments (Individual) There will be six stand-alone lab assignments in this course. In our\\nclasses, we will have Python code examples to demonstrate how to leverage data analytics methods for\\nunstructured data analyses. The lab assignments will provide you opportunity to practice these methods\\non a dataset relevant to your course project.\\n \\n2. Course Project (Team) One of the major goals of this course is to offer hands-on data analytics\\nexperience. The term project is intended to provide such experience by having students process data\\nand perform analyses including text mining, network analysis, machine learning, or other statistical\\ninferences. This course will be using Python for the term project. An overview of the project will be\\nprovided in lecture slides. The project is meant to evolve weekly during the duration of this course. There\\nare three deliverables tied to project milestones: project proposal, exploratory data analyses, and final\\nproject presentation. \\n \\nStudent Responsibilities\\nAttendance \\nEveryone is required to attend classes in person. Zoom attendance is not an option. An online session\\nis not a substitute for an immersion session in most cases. Just like different business meetings, each\\nprogram modality, even hybrid ones, differ in regards to pedagogical approaches dramatically, so\\nunfortunately learning outcomes promised in a program are often not attained the same way across\\ndifferent media. \\n \\nExceptional cases for accommodations apply. ASU has predetermined exceptions that we list below for\\nyour awareness. We specify situations in which students CAN EXPECT vs those they MUST NOT\\nEXPECT accommodations. \\nCAN EXPECT ACCOMMODATIONS:   \\n1. ASU-sanctioned reasons: Jury / military duty, Religious holidays, Health impediments\\n2. Student Accessibility and Inclusive Learning needs (SAILS)\\n3. ONE ONLY event per term per student for any career-related absence (e.g. WPC supported affinity\\nconferences, career fair participation, or job-related travels). \\n \\nMUST NOT EXPECT ACCOMMODATIONS:\\n1/9/25, 11:09 PM Syllabus for CIS 509: Analytics Unstructured Data (2025 Spring DYN)\\nhttps://canvas.asu.edu/courses/211724/assignments/syllabus 6/111. Personal reasons of various kinds, no matter what nature \\n2. More than one career-related absence per term per student\\n \\nShould you have to miss a class in such cases only, professors can offer “suitable accommodations”,\\nwhich may or may not include Zoom attendance. The accommodations, if available, are to cover one\\nclass only, not more. Should you need exceptions for a longer period of time, please contact your\\nprogram operations staff, and / or your Associate Dean, Luiz.Mesquita@asu.edu\\n(mailto:Luiz.Mesquita@asu.edu) . \\n \\nAssignment Timeliness\\nAt the W. P. Carey School of Business Graduate Programs, “delivering assignments on time” is part of\\nthe assignment. Submitting an assignment late means the student failed the assignment at least in part,\\nand in some cases, entirely. Per ASU, students who turn in assignments on time are to have higher\\ngrades than those who turn in assignments late, and because grades are capped at the top, lateness will\\nnecessarily involve a grade penalty.\\n \\nWe allow late submissions of your assignments up to three days after the deadline. Each day in delay\\nhas a 10% grade penalty toward the total grade of the assignment. \\nCommunicating and Behaving Professionally\\nA hallmark of a W. P. Carey education is that everyone is courteous and professional when\\ncommunicating with each other. Soft skills listed in the code of professionalism represent that standard.\\nAll interactions with your peers, staff, and faculty are to follow that standard. It is ok to disagree with\\neach other on the basis of ideas, but it is not ok to be disagreeable. \\n \\nThe Graduate Programs Office takes the Professionalism Code very seriously because our mission is to\\nensure professionals who graduate from our programs continue to build up on our reputable brand,\\nwhich stands for “Business is Personal”. Please make yourself familiar with the Code, as those falling\\nshort of such standards are subject to disciplinary effects.\\n \\nW. P. Carey School of Business Honor Code\\nUnethical behavior by corporations has been linked with negative performance outcomes; the same is\\ntrue of unethical student behavior. It is expected that students will neither participate in nor condone\\nactivities such as cheating or plagiarism. You are expected to do your own work on all individual\\n1/9/25, 11:09 PM Syllabus for CIS 509: Analytics Unstructured Data (2025 Spring DYN)\\nhttps://canvas.asu.edu/courses/211724/assignments/syllabus 7/11exercises, quizzes, and exams. Students are encouraged to speak to other students about the issues,\\nbut do not share work or answers. Failure to follow this policy may result in zero points for both the\\nreceiver and provider (if involved). Also, the instructor may take any other action described in the current\\nacademic integrity policy. By placing their names on assignments, students are affirming that the\\ncontents are their original work. Consulting work done by students in this course in other platforms or in\\nprevious years is a violation of academic integrity. This policy will be vigorously enforced. Sharing work\\nyou do in this course with others, whether in the course with you or not, can tempt others to violate this\\nacademic integrity policy and can result in that student’s failure in the course and dismissal from his/her\\nprogram.\\n \\nUse of Generative AI is Generally Permitted Within Guidelines\\nArtificial Intelligence (AI), including ChatGPT, are being used in workplaces all over the world to save\\ntime and improve outcomes by generating text, images, computer code, audio, or other media. Use of AI\\ntools is generally welcome in this class with attribution aligned with disciplinary guidelines. AI tools might\\nbe employed to brainstorm, draft, edit, revise, etc.  Any submitted course assignment not explicitly\\nidentified as having used generative AI will be assumed to be your original work. Using AI tools to\\ngenerate content without proper attribution will be considered a violation of the ASU Academic Integrity\\nPolicy, and students may be sanctioned for confirmed, non-allowable use. If at any point you have\\nquestions about what is permitted, contact the instructor to discuss before submitting work. \\n \\nAcademic Integrity and Ethical Behavior\\nA student who engages in academic misconduct as outlined in ASU’s academic integrity policy\\n(http://provost.asu.edu/academicintegrity) while attending a graduate program will receive strict\\npenalties. Those penalties ordinarily will range from a letter reduction in final course grade to expulsion\\nfrom the program and School of Business. The penalty will be decided by the course faculty member\\nand the Assistant Dean of Academic Affairs. All allegations of academic misconduct must be reported to\\nprogram administrators. Any subsequent act of academic misconduct, regardless of severity, will result in\\ndismissal from the program and the School of Business.\\n \\nInstructor Absence Policy\\nThis is from ACD 304-10:\\n“How Long Students Should Wait for an Absent Instructor: In the event the instructor fails to indicate a\\ntime obligation, the time obligation will be 15 minutes for class sessions lasting 90 minutes or less, and\\n1/9/25, 11:09 PM Syllabus for CIS 509: Analytics Unstructured Data (2025 Spring DYN)\\nhttps://canvas.asu.edu/courses/211724/assignments/syllabus 8/1130 minutes for class sessions lasting more than 90 minutes. Students may be directed to wait longer by\\nsomeone from the academic unit if they know the instructor will arrive shortly.”\\n \\nReligious Accommodations\\nAccommodations will be made for students with religious holidays.  Below is a link to the calendar of\\nofficial religious holidays.  Each holiday noted with two asterisks denotes an observance for which work\\nis not allowed.  For these holidays, students will not be penalized in any way for missing class or\\nassignments.  This means that this will not count as an absence in class and they will be granted a\\nmakeup assignment or exam, etc. \\nhttps://eoss.asu.edu/cora/holidays (https://eoss.asu.edu/cora/holidays)\\nAll requests for accommodation must be submitted by the end of the second week of class. \\n \\nUniversity-Sanctioned Activities\\nAccommodations will be made for students who miss class related to university-sanctioned activities\\naccording to ACD 304-02. If you are participating in a university-sanctioned activity, please let your\\ninstructor know as early in the course as possible so that accommodations can be made.\\n \\nThreatening Behavior Policy\\nThe university takes threatening behavior very seriously, and these situations will be handled in\\naccordance with the Student Services Manual, SSM 104-02\\nhttp://www.asu.edu/aad/manuals/ssm/ssm104-02.html (http://www.asu.edu/aad/manuals/ssm/ssm104-\\n02.html)\\n \\nDisability Accommodations\\nIf you need accommodation for a disability, you must register with the Student Accessibility and Inclusive\\nLearning Services (SAILS).\\n \\nCopyrighted Materials\\n1/9/25, 11:09 PM Syllabus for CIS 509: Analytics Unstructured Data (2025 Spring DYN)\\nhttps://canvas.asu.edu/courses/211724/assignments/syllabus 9/11Course Summary:\\nDate Details Due\\nSun Jan 26, 2025\\n\\uea1f  Lab Assignment 1 - Text\\nProcessing Techniques\\n(https://canvas.asu.edu/courses/211724/assignments/5883464)\\ndue by 11:59pm\\n\\uea1f  Project Proposal Submission\\n(https://canvas.asu.edu/courses/211724/assignments/5883480) due by 11:59pm\\nUnless otherwise stated by the instructor, all viewgraphs, lecture notes, data files, publications,\\nexam/quiz/homework answer keys, and all other materials provided by the instructor are copyrighted\\nmaterials and are provided for sole use by the students as study aids. These materials, as well as notes\\ntaken by students during the course, are not to be sold, copied, posted on a public network, or otherwise\\ndistributed.\\n \\nTitle IX, Sexual Harassment & Violence\\nTitle IX is a federal law that provides that no person be excluded on the basis of sex from participation in,\\nbe denied benefits of, or be subjected to discrimination under any education program or activity.  Both\\nTitle IX and university policy make clear that sexual violence and harassment based on sex are\\nprohibited.  An individual who believes they have been subjected to sexual violence or harassed on the\\nbasis of sex can seek support, including counseling and academic support, from the university. If you or\\nsomeone you know has been harassed on the basis of sex or sexually assaulted, you can find\\ninformation and resources at https://sexualviolenceprevention.asu.edu/faqs\\n(https://sexualviolenceprevention.asu.edu/faqs) .\\n \\nAs a mandated reporter, I am obligated to report any information I become aware of regarding alleged\\nacts of sexual discrimination, including sexual violence and dating violence.  ASU Counseling Services,\\nhttps://eoss.asu.edu/ (https://eoss.asu.edu/) counseling, is available if you wish to discuss any concerns\\nconfidentially and privately.\\n \\nInformation contained within this syllabus (except grading and absence policies) is subject to\\nchange.\\n \\n1/9/25, 11:09 PM Syllabus for CIS 509: Analytics Unstructured Data (2025 Spring DYN)\\nhttps://canvas.asu.edu/courses/211724/assignments/syllabus 10/11Date Details Due\\nSun Feb 2, 2025 \\uea1f  Lab Assignment 2 - Sentiment\\nAnalysis\\n(https://canvas.asu.edu/courses/211724/assignments/5883466)\\ndue by 11:59pm\\nSun Feb 9, 2025 \\uea1f  Exploratory Data Analysis\\n(https://canvas.asu.edu/courses/211724/assignments/5883461) due by 11:59pm\\nSun Feb 16, 2025\\n\\uea1f  Lab Assignment 3 -\\nFoundations of Deep Learning\\n(https://canvas.asu.edu/courses/211724/assignments/5883470)\\ndue by 11:59pm\\n\\uea1f  Peer Evaluation 1\\n(https://canvas.asu.edu/courses/211724/assignments/5883476) due by 11:59pm\\nSun Feb 23, 2025 \\uea1f  Lab Assignment 4 - Text\\nClassification with Deep Learning\\n(https://canvas.asu.edu/courses/211724/assignments/5883472)\\ndue by 11:59pm\\nSun Mar 2, 2025 \\uea1f  Lab Assignment 5 - Topic\\nModeling with BERT\\n(https://canvas.asu.edu/courses/211724/assignments/5883474)\\ndue by 11:59pm\\nWed Mar 5, 2025\\n\\uea1f  Final Project Submission\\n(https://canvas.asu.edu/courses/211724/assignments/5883463) due by 11:59pm\\n\\uea1f  Peer Evaluation 2\\n(https://canvas.asu.edu/courses/211724/assignments/5883478) due by 11:59pm\\n\\uea1f  Lab Assignment 6 -\\nApplications of LLMs\\n(https://canvas.asu.edu/courses/211724/assignments/5979193)\\n \\n1/9/25, 11:09 PM Syllabus for CIS 509: Analytics Unstructured Data (2025 Spring DYN)\\nhttps://canvas.asu.edu/courses/211724/assignments/syllabus 11/11')]"
      ]
     },
     "execution_count": 8,
     "metadata": {},
     "output_type": "execute_result"
    }
   ],
   "source": [
    "from langchain.schema import Document\n",
    "\n",
    "all_page_content = \"\".join([doc.page_content for doc in documents])\n",
    "\n",
    "# Create a new Document object with the combined content\n",
    "documents = [Document(page_content=all_page_content)]\n",
    "documents"
   ]
  },
  {
   "cell_type": "code",
   "execution_count": 9,
   "metadata": {
    "colab": {
     "base_uri": "https://localhost:8080/"
    },
    "execution": {
     "iopub.execute_input": "2025-02-26T20:55:25.084382Z",
     "iopub.status.busy": "2025-02-26T20:55:25.084076Z",
     "iopub.status.idle": "2025-02-26T20:55:25.087910Z",
     "shell.execute_reply": "2025-02-26T20:55:25.087389Z",
     "shell.execute_reply.started": "2025-02-26T20:55:25.084354Z"
    },
    "id": "DeUZ-vTjz6gd",
    "outputId": "69702982-b583-41ad-83c1-38ba3e518a0c"
   },
   "outputs": [
    {
     "data": {
      "text/plain": [
       "1"
      ]
     },
     "execution_count": 9,
     "metadata": {},
     "output_type": "execute_result"
    }
   ],
   "source": [
    "len(documents)\n"
   ]
  },
  {
   "cell_type": "code",
   "execution_count": 10,
   "metadata": {
    "colab": {
     "base_uri": "https://localhost:8080/"
    },
    "execution": {
     "iopub.execute_input": "2025-02-26T20:55:25.089098Z",
     "iopub.status.busy": "2025-02-26T20:55:25.088554Z",
     "iopub.status.idle": "2025-02-26T20:55:25.091652Z",
     "shell.execute_reply": "2025-02-26T20:55:25.091200Z",
     "shell.execute_reply.started": "2025-02-26T20:55:25.089069Z"
    },
    "id": "KjRx9tCti5sY",
    "outputId": "a37b3ce3-1e00-49b4-ce91-6eb48b84b7df"
   },
   "outputs": [],
   "source": [
    "# from bs4 import BeautifulSoup\n",
    "# from langchain.docstore.document import Document\n",
    "# def extract_text_from_html(file_path):\n",
    "#     with open(file_path, \"r\", encoding=\"utf-8\") as file:\n",
    "#         soup = BeautifulSoup(file, \"html.parser\")\n",
    "#         text = soup.get_text(separator=\" \")  # Extract text and separate by spaces\n",
    "#     return text\n",
    "\n",
    "# # Step 2: Create a Document object for further processing\n",
    "# html_path = '/content/Syllabus for CIS 509_ Analytics Unstructured Data (2024 Spring DYN).html'  # Update with your HTML file path\n",
    "# text = extract_text_from_html(html_path)\n",
    "# # print(text)\n",
    "# # Print a sample of the extracted text\n",
    "# # print(\"Extracted text:\", text[:100000])  # Print the first 500 characters\n",
    "\n",
    "# # Step 3: Create a Document object\n",
    "# documents = [Document(page_content=text)]\n",
    "# len(documents[0].page_content)"
   ]
  },
  {
   "cell_type": "code",
   "execution_count": 11,
   "metadata": {
    "execution": {
     "iopub.execute_input": "2025-02-26T20:55:25.092635Z",
     "iopub.status.busy": "2025-02-26T20:55:25.092282Z",
     "iopub.status.idle": "2025-02-26T20:55:25.096200Z",
     "shell.execute_reply": "2025-02-26T20:55:25.095742Z",
     "shell.execute_reply.started": "2025-02-26T20:55:25.092609Z"
    },
    "id": "WChEs4Bkjqmq"
   },
   "outputs": [],
   "source": [
    "\"\"\"\n",
    "Splits documents into smaller chunks using a recursive character-based text splitter.\n",
    "\n",
    "Parameters:\n",
    "    chunk_size (int): The maximum size of each text chunk (default is 8000 characters).\n",
    "    chunk_overlap (int): The number of overlapping characters between consecutive chunks (default is 2000 characters).\n",
    "\n",
    "Returns:\n",
    "    list[Document]: A list of chunked document objects, preserving context through overlap.\n",
    "\n",
    "Usage:\n",
    "    - This helps in processing large documents by breaking them into smaller, overlapping segments.\n",
    "    - Useful for retrieval-augmented generation (RAG) and other NLP tasks requiring document chunking.\n",
    "\"\"\"\n",
    "\n",
    "text_splitter = RecursiveCharacterTextSplitter(chunk_size=8000, chunk_overlap=2000)\n",
    "chunked_docs = text_splitter.split_documents(documents)"
   ]
  },
  {
   "cell_type": "markdown",
   "metadata": {
    "id": "4xTgqMEXF2Fr"
   },
   "source": [
    "To cover all the relevant context we have set the chunk size to be 8000 and the size of overlapping characters to be 2000. If you find the RAG not reporting correct information consider increasing the size of the chunk size.\n",
    "\n",
    "For this doc, anything above 8000 chunk size is ideal."
   ]
  },
  {
   "cell_type": "code",
   "execution_count": 12,
   "metadata": {
    "colab": {
     "base_uri": "https://localhost:8080/"
    },
    "execution": {
     "iopub.execute_input": "2025-02-26T20:55:25.098713Z",
     "iopub.status.busy": "2025-02-26T20:55:25.098453Z",
     "iopub.status.idle": "2025-02-26T20:55:25.102129Z",
     "shell.execute_reply": "2025-02-26T20:55:25.101669Z",
     "shell.execute_reply.started": "2025-02-26T20:55:25.098685Z"
    },
    "id": "elCzrrT75af2",
    "outputId": "40fe7a61-3f09-4241-a87c-94fe3d253eae"
   },
   "outputs": [
    {
     "name": "stdout",
     "output_type": "stream",
     "text": [
      "Chunked doc 1 length: 7923\n",
      "Chunked doc 2 length: 7838\n",
      "Chunked doc 3 length: 7108\n"
     ]
    }
   ],
   "source": [
    "for i, doc in enumerate(chunked_docs):\n",
    "    print(f\"Chunked doc {i+1} length: {len(doc.page_content)}\")\n"
   ]
  },
  {
   "cell_type": "markdown",
   "metadata": {
    "id": "q2Ej-zKCaPU4"
   },
   "source": [
    "Importing the embeddings model `'sentence-transformers/all-mpnet-base-v2'` which transforms the content in our document into embeddings and stores it in Faiss DB.\n",
    "\n",
    "\n",
    "\n",
    "> Faiss is a library for efficient similarity search and clustering of dense vectors. It contains algorithms that search in sets of vectors of any size, up to ones that possibly do not fit in RAM.\n",
    "\n"
   ]
  },
  {
   "cell_type": "code",
   "execution_count": 13,
   "metadata": {
    "execution": {
     "iopub.execute_input": "2025-02-26T20:55:25.104431Z",
     "iopub.status.busy": "2025-02-26T20:55:25.104262Z",
     "iopub.status.idle": "2025-02-26T20:55:33.486355Z",
     "shell.execute_reply": "2025-02-26T20:55:33.485820Z",
     "shell.execute_reply.started": "2025-02-26T20:55:25.104415Z"
    },
    "id": "eEDusbSodU7O"
   },
   "outputs": [
    {
     "name": "stderr",
     "output_type": "stream",
     "text": [
      "/tmp/ipykernel_3299/863149276.py:1: LangChainDeprecationWarning: The class `HuggingFaceEmbeddings` was deprecated in LangChain 0.2.2 and will be removed in 1.0. An updated version of the class exists in the langchain-huggingface package and should be used instead. To use it run `pip install -U langchain-huggingface` and import as `from langchain_huggingface import HuggingFaceEmbeddings`.\n",
      "  embeddings = HuggingFaceEmbeddings(model_name='sentence-transformers/all-mpnet-base-v2')\n",
      "2025-02-26 20:55:27.397342: I tensorflow/core/util/port.cc:153] oneDNN custom operations are on. You may see slightly different numerical results due to floating-point round-off errors from different computation orders. To turn them off, set the environment variable `TF_ENABLE_ONEDNN_OPTS=0`.\n",
      "2025-02-26 20:55:27.411874: E external/local_xla/xla/stream_executor/cuda/cuda_fft.cc:485] Unable to register cuFFT factory: Attempting to register factory for plugin cuFFT when one has already been registered\n",
      "2025-02-26 20:55:27.429919: E external/local_xla/xla/stream_executor/cuda/cuda_dnn.cc:8454] Unable to register cuDNN factory: Attempting to register factory for plugin cuDNN when one has already been registered\n",
      "2025-02-26 20:55:27.435462: E external/local_xla/xla/stream_executor/cuda/cuda_blas.cc:1452] Unable to register cuBLAS factory: Attempting to register factory for plugin cuBLAS when one has already been registered\n",
      "2025-02-26 20:55:27.448336: I tensorflow/core/platform/cpu_feature_guard.cc:210] This TensorFlow binary is optimized to use available CPU instructions in performance-critical operations.\n",
      "To enable the following instructions: SSE4.1 SSE4.2 AVX AVX2 AVX512F AVX512_VNNI FMA, in other operations, rebuild TensorFlow with the appropriate compiler flags.\n"
     ]
    }
   ],
   "source": [
    "embeddings = HuggingFaceEmbeddings(model_name='sentence-transformers/all-mpnet-base-v2')\n",
    "faiss_db = FAISS.from_documents(chunked_docs, embeddings)"
   ]
  },
  {
   "cell_type": "markdown",
   "metadata": {
    "id": "Tef7CQDhZvMY"
   },
   "source": [
    "Retriever brings out the relevant content from the faiss_db. The search_type is set to \"similarity\" and search_kwargs is set to 4. So the 4 most similar chunks considered in the context.\n"
   ]
  },
  {
   "cell_type": "code",
   "execution_count": 14,
   "metadata": {
    "colab": {
     "base_uri": "https://localhost:8080/"
    },
    "execution": {
     "iopub.execute_input": "2025-02-26T20:55:33.491665Z",
     "iopub.status.busy": "2025-02-26T20:55:33.491208Z",
     "iopub.status.idle": "2025-02-26T20:55:33.494519Z",
     "shell.execute_reply": "2025-02-26T20:55:33.494015Z",
     "shell.execute_reply.started": "2025-02-26T20:55:33.491643Z"
    },
    "id": "-8Bsag68c9uQ",
    "outputId": "c91d91a2-9133-4edb-ee92-51cfae54ecc0"
   },
   "outputs": [],
   "source": [
    "\"\"\"\n",
    "Creates a retriever from a FAISS database for similarity-based search.\n",
    "\n",
    "Parameters:\n",
    "    search_type (str): The type of search to perform. \"similarity\" indicates that the retriever will use similarity-based search.\n",
    "    search_kwargs (dict): Additional search parameters.\n",
    "        - k (int): The number of top relevant documents to retrieve (default is 2).\n",
    "\n",
    "Returns:\n",
    "    BaseRetriever: A retriever instance that can be used to fetch the most relevant documents from the FAISS index.\n",
    "\"\"\"\n",
    "\n",
    "retriever = faiss_db.as_retriever(\n",
    "    search_type=\"similarity\",\n",
    "    search_kwargs={'k': 2}\n",
    ")\n"
   ]
  },
  {
   "cell_type": "markdown",
   "metadata": {},
   "source": [
    "https://python.langchain.com/docs/how_to/custom_llm/"
   ]
  },
  {
   "cell_type": "markdown",
   "metadata": {
    "id": "UOAlazh3ZnoO"
   },
   "source": [
    "Creating a Chain/Pipeline consisting of a retriever."
   ]
  },
  {
   "cell_type": "code",
   "execution_count": 15,
   "metadata": {
    "execution": {
     "iopub.execute_input": "2025-02-26T20:55:33.498541Z",
     "iopub.status.busy": "2025-02-26T20:55:33.498180Z",
     "iopub.status.idle": "2025-02-26T20:55:33.509462Z",
     "shell.execute_reply": "2025-02-26T20:55:33.509024Z",
     "shell.execute_reply.started": "2025-02-26T20:55:33.498513Z"
    }
   },
   "outputs": [],
   "source": [
    "import json\n",
    "from typing import Any, Dict, List, Optional\n",
    "from langchain.llms.base import LLM\n",
    "from pydantic import Field\n",
    "\n",
    "class BedrockLLM(LLM):\n",
    "    \"\"\"\n",
    "    Custom LangChain LLM class wrapper for Amazon Bedrock models.\n",
    "    Inherits from LangChain's base LLM class.\n",
    "    \"\"\"\n",
    "    \n",
    "    # Define class attributes with Pydantic Fields\n",
    "    client: Any = Field(...)  # Bedrock client instance\n",
    "    model_id: str = Field(...)  # Bedrock model identifier\n",
    "    kwargs: Dict = Field(default_factory=dict)  # Additional model parameters\n",
    "    \n",
    "    def __init__(self, client, model_id, **kwargs):\n",
    "        \"\"\"\n",
    "        Initialize the BedrockLLM instance.\n",
    "        \n",
    "        Args:\n",
    "            client: Bedrock client instance\n",
    "            model_id: Model identifier (e.g., \"anthropic.claude-3-sonnet-20240229-v1:0\")\n",
    "            kwargs: Additional keyword arguments for model configuration\n",
    "        \"\"\"\n",
    "        super().__init__()\n",
    "        self.client = client\n",
    "        self.model_id = model_id\n",
    "        self.kwargs = kwargs\n",
    "\n",
    "    @property\n",
    "    def _llm_type(self) -> str:\n",
    "        \"\"\"\n",
    "        Return identifier for the LLM type.\n",
    "        Required by LangChain's LLM interface.\n",
    "        \"\"\"\n",
    "        return \"bedrock\"\n",
    "\n",
    "    def _call(self, prompt: str, stop: Optional[List[str]] = None) -> str:\n",
    "        \"\"\"\n",
    "        Execute the LLM call to Bedrock.\n",
    "        \n",
    "        Args:\n",
    "            prompt: The input text to send to the model\n",
    "            stop: Optional list of stop sequences (not implemented)\n",
    "            \n",
    "        Returns:\n",
    "            str: The generated text response\n",
    "            \n",
    "        Raises:\n",
    "            ValueError: If there's an error calling Bedrock or unexpected response format\n",
    "        \"\"\"\n",
    "        # Construct the request payload for Claude 3\n",
    "        native_request = {\n",
    "            \"anthropic_version\": \"bedrock-2023-05-31\",\n",
    "            \"max_tokens\": 512,\n",
    "            \"temperature\": 0.5,\n",
    "            \"messages\": [\n",
    "                {\"role\": \"user\", \"content\": prompt}\n",
    "            ]\n",
    "        }\n",
    "        \n",
    "        try:\n",
    "            # Convert the request to JSON string and invoke the model\n",
    "            request = json.dumps(native_request)\n",
    "            response = self.client.invoke_model(modelId=self.model_id, body=request)\n",
    "            \n",
    "            # Parse the response body from bytes to JSON\n",
    "            response_body = json.loads(response['body'].read())\n",
    "            \n",
    "            # Handle Claude 3's response format which returns content as an array\n",
    "            if 'content' in response_body:\n",
    "                content = response_body['content']\n",
    "                if isinstance(content, list):\n",
    "                    # Extract and combine all text content from the response\n",
    "                    text_content = ' '.join(\n",
    "                        item['text'] for item in content \n",
    "                        if item['type'] == 'text'\n",
    "                    )\n",
    "                    return text_content\n",
    "                \n",
    "            raise ValueError(f\"Unexpected response structure: {response_body}\")\n",
    "                \n",
    "        except Exception as e:\n",
    "            raise ValueError(f\"Error calling Bedrock: {str(e)}\")"
   ]
  },
  {
   "cell_type": "code",
   "execution_count": 16,
   "metadata": {
    "execution": {
     "iopub.execute_input": "2025-02-26T20:55:33.510612Z",
     "iopub.status.busy": "2025-02-26T20:55:33.510111Z",
     "iopub.status.idle": "2025-02-26T20:55:33.513881Z",
     "shell.execute_reply": "2025-02-26T20:55:33.513354Z",
     "shell.execute_reply.started": "2025-02-26T20:55:33.510584Z"
    }
   },
   "outputs": [],
   "source": [
    "        \n",
    "model = BedrockLLM(\n",
    "    client=client,\n",
    "    model_id=\"anthropic.claude-3-sonnet-20240229-v1:0\"\n",
    ")"
   ]
  },
  {
   "cell_type": "code",
   "execution_count": 17,
   "metadata": {
    "execution": {
     "iopub.execute_input": "2025-02-26T20:55:33.515003Z",
     "iopub.status.busy": "2025-02-26T20:55:33.514545Z",
     "iopub.status.idle": "2025-02-26T20:55:33.822459Z",
     "shell.execute_reply": "2025-02-26T20:55:33.821819Z",
     "shell.execute_reply.started": "2025-02-26T20:55:33.514976Z"
    }
   },
   "outputs": [
    {
     "data": {
      "text/plain": [
       "'Hello!'"
      ]
     },
     "execution_count": 17,
     "metadata": {},
     "output_type": "execute_result"
    }
   ],
   "source": [
    "model.invoke(\"Hi\")"
   ]
  },
  {
   "cell_type": "code",
   "execution_count": 18,
   "metadata": {
    "execution": {
     "iopub.execute_input": "2025-02-26T20:55:33.823446Z",
     "iopub.status.busy": "2025-02-26T20:55:33.823172Z",
     "iopub.status.idle": "2025-02-26T20:55:33.826880Z",
     "shell.execute_reply": "2025-02-26T20:55:33.826434Z",
     "shell.execute_reply.started": "2025-02-26T20:55:33.823426Z"
    },
    "id": "4p_Qdz86dLgv"
   },
   "outputs": [],
   "source": [
    "\"\"\"\n",
    "Creates a ConversationalRetrievalChain instance for handling conversational question-answering with retrieval.\n",
    "\n",
    "Parameters:\n",
    "    model (LLM): The language model used for generating responses.\n",
    "    retriever (BaseRetriever): The retriever responsible for fetching relevant documents from a knowledge base.\n",
    "    return_source_documents (bool, optional): If True, the chain returns the source documents along with the response. Default is True.\n",
    "\n",
    "Returns:\n",
    "    ConversationalRetrievalChain: A retrieval-augmented conversational QA chain that can process user queries and fetch relevant documents.\n",
    "\"\"\"\n",
    "\n",
    "qa_chain = ConversationalRetrievalChain.from_llm(model, retriever,return_source_documents=True)\n"
   ]
  },
  {
   "cell_type": "code",
   "execution_count": 19,
   "metadata": {
    "colab": {
     "base_uri": "https://localhost:8080/"
    },
    "execution": {
     "iopub.execute_input": "2025-02-26T20:55:33.827690Z",
     "iopub.status.busy": "2025-02-26T20:55:33.827475Z",
     "iopub.status.idle": "2025-02-26T20:56:23.343139Z",
     "shell.execute_reply": "2025-02-26T20:56:23.342564Z",
     "shell.execute_reply.started": "2025-02-26T20:55:33.827673Z"
    },
    "id": "BLdVQVQWdNUQ",
    "outputId": "e7ed7132-2062-4927-da89-702a2b648484"
   },
   "outputs": [
    {
     "name": "stdin",
     "output_type": "stream",
     "text": [
      "Prompt:  What weightage does each exam hold in the final grade?\n"
     ]
    },
    {
     "name": "stdout",
     "output_type": "stream",
     "text": [
      "Answer: Unfortunately the syllabus does not explicitly state the weightage or points for any exams. The grading breakdown provided in the syllabus only mentions the following components and their weights:\n",
      "\n",
      "1. Lab Assignments (6 assignments) - 60% of total grade\n",
      "2. Course Project \n",
      "    - Exploratory Data Analysis - 10 points\n",
      "    - Project Presentation - 30 points\n",
      "    - Total Course Project weight - 40% \n",
      "\n",
      "The syllabus does not mention any exams or provide weightages for exams in the final grade calculation. If exams are a component, their weightages are not specified in the syllabus information provided.\n",
      "\n"
     ]
    }
   ],
   "source": [
    "\"\"\"\n",
    "Interactive QA chatbot using a conversational retrieval chain.\n",
    "\n",
    "Functions:\n",
    "    get_user_input():\n",
    "        - Prompts the user for input.\n",
    "        - Returns the input as a lowercase string.\n",
    "\n",
    "    main():\n",
    "        - Initializes an empty chat history.\n",
    "        - Collects user input and queries the QA chain.\n",
    "        - Prints the answer and updates chat history.\n",
    "        - Supports conversational context by storing previous interactions.\n",
    "\n",
    "Usage:\n",
    "    - Run the script to start an interactive QA session.\n",
    "    - The chatbot retrieves relevant documents and generates responses based on user queries.\n",
    "\"\"\"\n",
    "\n",
    "import sys\n",
    "\n",
    "def get_user_input():\n",
    "    return input('Prompt: ').lower()\n",
    "\n",
    "def main():\n",
    "    chat_history = []\n",
    "\n",
    "    query = get_user_input()\n",
    "\n",
    "    result = qa_chain.invoke({'question': query, 'chat_history': chat_history})\n",
    "    print(f'Answer: {result[\"answer\"]}\\n')\n",
    "\n",
    "    chat_history.append((query, result['answer']))\n",
    "\n",
    "if __name__ == \"__main__\":\n",
    "    main()"
   ]
  },
  {
   "cell_type": "markdown",
   "metadata": {
    "id": "sw4QeLkqqoPC"
   },
   "source": [
    "## Parameters\n",
    "\n",
    "Performance of the RAG will depend on the Chunk size.\n",
    "Sometimes the performance will also depend on the `search_kwargs={'k': 4}`.\n",
    "\n",
    "#### Why we need Chunking?\n",
    "\n",
    "For larger documents we intend to create a large number of chunks so that the document can fit into our memory.\n",
    "\n",
    "#### K Nearest Neighbors\n",
    "\n",
    "K value will determine the amount of relevant information to retrieve. if we set `K = 1`, the retriever will only extract 1 chunk that is most relevant to our prompt."
   ]
  }
 ],
 "metadata": {
  "accelerator": "GPU",
  "colab": {
   "gpuType": "T4",
   "provenance": []
  },
  "kernelspec": {
   "display_name": "Python 3 (ipykernel)",
   "language": "python",
   "name": "python3"
  },
  "language_info": {
   "codemirror_mode": {
    "name": "ipython",
    "version": 3
   },
   "file_extension": ".py",
   "mimetype": "text/x-python",
   "name": "python",
   "nbconvert_exporter": "python",
   "pygments_lexer": "ipython3",
   "version": "3.11.11"
  }
 },
 "nbformat": 4,
 "nbformat_minor": 4
}
