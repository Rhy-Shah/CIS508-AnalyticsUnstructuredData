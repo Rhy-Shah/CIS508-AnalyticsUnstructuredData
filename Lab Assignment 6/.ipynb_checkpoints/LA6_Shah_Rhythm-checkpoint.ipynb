{
 "cells": [
  {
   "cell_type": "markdown",
   "metadata": {},
   "source": [
    "# ~ Rhythm Shah\n",
    "\n",
    "~ 1233960561\n",
    "\n",
    "~ 03/04/2025"
   ]
  },
  {
   "cell_type": "markdown",
   "metadata": {},
   "source": [
    "## Code Cell 1 (5%) - Import Required Libraries and Load Data"
   ]
  },
  {
   "cell_type": "markdown",
   "metadata": {},
   "source": [
    "### Import all necessary libraries for data processing, NLP, and interaction with LLMs."
   ]
  },
  {
   "cell_type": "code",
   "execution_count": 136,
   "metadata": {
    "execution": {
     "iopub.execute_input": "2025-03-05T09:27:36.878382Z",
     "iopub.status.busy": "2025-03-05T09:27:36.877939Z",
     "iopub.status.idle": "2025-03-05T09:27:36.882919Z",
     "shell.execute_reply": "2025-03-05T09:27:36.882154Z",
     "shell.execute_reply.started": "2025-03-05T09:27:36.878358Z"
    }
   },
   "outputs": [],
   "source": [
    "import numpy as numpy\n",
    "import pandas as pd\n",
    "import s3fs\n",
    "import json\n",
    "import boto3\n",
    "from sklearn.metrics import precision_score, recall_score, f1_score, accuracy_score, confusion_matrix"
   ]
  },
  {
   "cell_type": "markdown",
   "metadata": {},
   "source": [
    "### Load restaurant_reviews_az.csv."
   ]
  },
  {
   "cell_type": "code",
   "execution_count": 137,
   "metadata": {
    "execution": {
     "iopub.execute_input": "2025-03-05T09:27:39.899289Z",
     "iopub.status.busy": "2025-03-05T09:27:39.899032Z",
     "iopub.status.idle": "2025-03-05T09:27:40.258549Z",
     "shell.execute_reply": "2025-03-05T09:27:40.258032Z",
     "shell.execute_reply.started": "2025-03-05T09:27:39.899269Z"
    }
   },
   "outputs": [],
   "source": [
    "df = pd.read_csv('restaurant_reviews_az.csv')[:2000]"
   ]
  },
  {
   "cell_type": "code",
   "execution_count": 138,
   "metadata": {
    "execution": {
     "iopub.execute_input": "2025-03-05T09:27:40.335130Z",
     "iopub.status.busy": "2025-03-05T09:27:40.334877Z",
     "iopub.status.idle": "2025-03-05T09:27:40.338638Z",
     "shell.execute_reply": "2025-03-05T09:27:40.338202Z",
     "shell.execute_reply.started": "2025-03-05T09:27:40.335113Z"
    }
   },
   "outputs": [
    {
     "data": {
      "text/plain": [
       "(2000, 9)"
      ]
     },
     "execution_count": 138,
     "metadata": {},
     "output_type": "execute_result"
    }
   ],
   "source": [
    "df.shape"
   ]
  },
  {
   "cell_type": "markdown",
   "metadata": {},
   "source": [
    "## Code Cell 2 (5%) - Data Preprocessing"
   ]
  },
  {
   "cell_type": "markdown",
   "metadata": {
    "execution": {
     "iopub.execute_input": "2025-03-05T08:09:15.593285Z",
     "iopub.status.busy": "2025-03-05T08:09:15.592859Z",
     "iopub.status.idle": "2025-03-05T08:09:15.596805Z",
     "shell.execute_reply": "2025-03-05T08:09:15.596083Z",
     "shell.execute_reply.started": "2025-03-05T08:09:15.593264Z"
    }
   },
   "source": [
    "### Remove 3-star reviews from the dataset."
   ]
  },
  {
   "cell_type": "code",
   "execution_count": 139,
   "metadata": {
    "execution": {
     "iopub.execute_input": "2025-03-05T09:27:41.484134Z",
     "iopub.status.busy": "2025-03-05T09:27:41.483880Z",
     "iopub.status.idle": "2025-03-05T09:27:41.501206Z",
     "shell.execute_reply": "2025-03-05T09:27:41.500081Z",
     "shell.execute_reply.started": "2025-03-05T09:27:41.484116Z"
    }
   },
   "outputs": [],
   "source": [
    "df = df[df['stars'] != 3]"
   ]
  },
  {
   "cell_type": "markdown",
   "metadata": {},
   "source": [
    "### Create a new column Sentiment where:\n",
    "Reviews with 1 or 2 stars are labeled as 0 (Negative Sentiment).\n",
    "Reviews with 4 or 5 stars are labeled as 1 (Positive Sentiment)."
   ]
  },
  {
   "cell_type": "code",
   "execution_count": 140,
   "metadata": {
    "execution": {
     "iopub.execute_input": "2025-03-05T09:27:42.446198Z",
     "iopub.status.busy": "2025-03-05T09:27:42.445929Z",
     "iopub.status.idle": "2025-03-05T09:27:42.451751Z",
     "shell.execute_reply": "2025-03-05T09:27:42.451068Z",
     "shell.execute_reply.started": "2025-03-05T09:27:42.446179Z"
    }
   },
   "outputs": [],
   "source": [
    "df['Sentiment'] = df['stars'].apply(lambda x: 1 if x >= 4 else 0)"
   ]
  },
  {
   "cell_type": "markdown",
   "metadata": {},
   "source": [
    "### Create a dataset for this assignment by randomly selecting 50 positive reviews and 50 negative reviews"
   ]
  },
  {
   "cell_type": "code",
   "execution_count": 141,
   "metadata": {
    "execution": {
     "iopub.execute_input": "2025-03-05T09:27:43.357226Z",
     "iopub.status.busy": "2025-03-05T09:27:43.356961Z",
     "iopub.status.idle": "2025-03-05T09:27:43.368880Z",
     "shell.execute_reply": "2025-03-05T09:27:43.368441Z",
     "shell.execute_reply.started": "2025-03-05T09:27:43.357208Z"
    }
   },
   "outputs": [
    {
     "data": {
      "text/html": [
       "<div>\n",
       "<style scoped>\n",
       "    .dataframe tbody tr th:only-of-type {\n",
       "        vertical-align: middle;\n",
       "    }\n",
       "\n",
       "    .dataframe tbody tr th {\n",
       "        vertical-align: top;\n",
       "    }\n",
       "\n",
       "    .dataframe thead th {\n",
       "        text-align: right;\n",
       "    }\n",
       "</style>\n",
       "<table border=\"1\" class=\"dataframe\">\n",
       "  <thead>\n",
       "    <tr style=\"text-align: right;\">\n",
       "      <th></th>\n",
       "      <th>review_id</th>\n",
       "      <th>user_id</th>\n",
       "      <th>business_id</th>\n",
       "      <th>stars</th>\n",
       "      <th>useful</th>\n",
       "      <th>funny</th>\n",
       "      <th>cool</th>\n",
       "      <th>text</th>\n",
       "      <th>date</th>\n",
       "      <th>Sentiment</th>\n",
       "    </tr>\n",
       "  </thead>\n",
       "  <tbody>\n",
       "    <tr>\n",
       "      <th>0</th>\n",
       "      <td>YbHV-lgpUp61VmYAPzqboQ</td>\n",
       "      <td>ZYnuyFg0cOEI9dEbYEwXjw</td>\n",
       "      <td>UCMSWPqzXjd7QHq7v8PJjQ</td>\n",
       "      <td>5</td>\n",
       "      <td>1</td>\n",
       "      <td>0</td>\n",
       "      <td>0</td>\n",
       "      <td>Great food &amp; wonderful service.  Have dined ma...</td>\n",
       "      <td>2021-07-18 04:49:48</td>\n",
       "      <td>1</td>\n",
       "    </tr>\n",
       "    <tr>\n",
       "      <th>1</th>\n",
       "      <td>CIfMJeySdInsnfZqBcQMKw</td>\n",
       "      <td>5oQ8GodXqXOtDmFs3vF2JQ</td>\n",
       "      <td>f82dhKNiUXsDVPMLqKYiIQ</td>\n",
       "      <td>5</td>\n",
       "      <td>0</td>\n",
       "      <td>0</td>\n",
       "      <td>0</td>\n",
       "      <td>I love this place.  I love the renovations.  I...</td>\n",
       "      <td>2020-02-15 16:29:48</td>\n",
       "      <td>1</td>\n",
       "    </tr>\n",
       "    <tr>\n",
       "      <th>2</th>\n",
       "      <td>wZlBimICAi-l1D7ln9Mjeg</td>\n",
       "      <td>TX2lJ9S0GskrZ6X9bNodyg</td>\n",
       "      <td>wSeEtJ-d2C8vqy5v9La9-g</td>\n",
       "      <td>4</td>\n",
       "      <td>0</td>\n",
       "      <td>0</td>\n",
       "      <td>0</td>\n",
       "      <td>We came to vail to see the Sahuaro buttes and ...</td>\n",
       "      <td>2021-06-07 00:38:50</td>\n",
       "      <td>1</td>\n",
       "    </tr>\n",
       "    <tr>\n",
       "      <th>3</th>\n",
       "      <td>zl28SdOchQyQLecngKuGgA</td>\n",
       "      <td>FvuREyQJqxnTS3Oy731AIA</td>\n",
       "      <td>OMnPtRGmbY8qH_wIILfYKA</td>\n",
       "      <td>5</td>\n",
       "      <td>3</td>\n",
       "      <td>1</td>\n",
       "      <td>2</td>\n",
       "      <td>Their bruschetta are really good but the porti...</td>\n",
       "      <td>2021-03-14 17:54:33</td>\n",
       "      <td>1</td>\n",
       "    </tr>\n",
       "    <tr>\n",
       "      <th>4</th>\n",
       "      <td>_zp_f2Hky8NcC8LgZrGd2w</td>\n",
       "      <td>mMJ5EPzkwAkI87bM7_RzNA</td>\n",
       "      <td>OMnPtRGmbY8qH_wIILfYKA</td>\n",
       "      <td>4</td>\n",
       "      <td>0</td>\n",
       "      <td>0</td>\n",
       "      <td>0</td>\n",
       "      <td>Soooooo gooood.  They have their daily special...</td>\n",
       "      <td>2020-10-04 03:20:54</td>\n",
       "      <td>1</td>\n",
       "    </tr>\n",
       "  </tbody>\n",
       "</table>\n",
       "</div>"
      ],
      "text/plain": [
       "                review_id                 user_id             business_id  \\\n",
       "0  YbHV-lgpUp61VmYAPzqboQ  ZYnuyFg0cOEI9dEbYEwXjw  UCMSWPqzXjd7QHq7v8PJjQ   \n",
       "1  CIfMJeySdInsnfZqBcQMKw  5oQ8GodXqXOtDmFs3vF2JQ  f82dhKNiUXsDVPMLqKYiIQ   \n",
       "2  wZlBimICAi-l1D7ln9Mjeg  TX2lJ9S0GskrZ6X9bNodyg  wSeEtJ-d2C8vqy5v9La9-g   \n",
       "3  zl28SdOchQyQLecngKuGgA  FvuREyQJqxnTS3Oy731AIA  OMnPtRGmbY8qH_wIILfYKA   \n",
       "4  _zp_f2Hky8NcC8LgZrGd2w  mMJ5EPzkwAkI87bM7_RzNA  OMnPtRGmbY8qH_wIILfYKA   \n",
       "\n",
       "   stars  useful  funny  cool  \\\n",
       "0      5       1      0     0   \n",
       "1      5       0      0     0   \n",
       "2      4       0      0     0   \n",
       "3      5       3      1     2   \n",
       "4      4       0      0     0   \n",
       "\n",
       "                                                text                 date  \\\n",
       "0  Great food & wonderful service.  Have dined ma...  2021-07-18 04:49:48   \n",
       "1  I love this place.  I love the renovations.  I...  2020-02-15 16:29:48   \n",
       "2  We came to vail to see the Sahuaro buttes and ...  2021-06-07 00:38:50   \n",
       "3  Their bruschetta are really good but the porti...  2021-03-14 17:54:33   \n",
       "4  Soooooo gooood.  They have their daily special...  2020-10-04 03:20:54   \n",
       "\n",
       "   Sentiment  \n",
       "0          1  \n",
       "1          1  \n",
       "2          1  \n",
       "3          1  \n",
       "4          1  "
      ]
     },
     "execution_count": 141,
     "metadata": {},
     "output_type": "execute_result"
    }
   ],
   "source": [
    "positive_reviews = df[df['Sentiment'] == 1].sample(n=50)\n",
    "negative_reviews = df[df['Sentiment'] == 0].sample(n=50)\n",
    "\n",
    "df1 = pd.concat([positive_reviews, negative_reviews]).reset_index(drop=True)\n",
    "df1.head()"
   ]
  },
  {
   "cell_type": "code",
   "execution_count": 142,
   "metadata": {
    "execution": {
     "iopub.execute_input": "2025-03-05T09:27:44.066122Z",
     "iopub.status.busy": "2025-03-05T09:27:44.065887Z",
     "iopub.status.idle": "2025-03-05T09:27:44.069491Z",
     "shell.execute_reply": "2025-03-05T09:27:44.069087Z",
     "shell.execute_reply.started": "2025-03-05T09:27:44.066108Z"
    }
   },
   "outputs": [
    {
     "data": {
      "text/plain": [
       "(100, 10)"
      ]
     },
     "execution_count": 142,
     "metadata": {},
     "output_type": "execute_result"
    }
   ],
   "source": [
    "df1.shape"
   ]
  },
  {
   "cell_type": "markdown",
   "metadata": {},
   "source": [
    "## Code Cell 3 (20%) - Perform Sentiment Analysis Using Zero-Shot Learning"
   ]
  },
  {
   "cell_type": "markdown",
   "metadata": {
    "execution": {
     "iopub.execute_input": "2025-03-05T08:11:09.610991Z",
     "iopub.status.busy": "2025-03-05T08:11:09.610516Z",
     "iopub.status.idle": "2025-03-05T08:11:09.614330Z",
     "shell.execute_reply": "2025-03-05T08:11:09.613741Z",
     "shell.execute_reply.started": "2025-03-05T08:11:09.610966Z"
    }
   },
   "source": [
    "### Use a Claude 3 Sonnet for zero-shot prompting."
   ]
  },
  {
   "cell_type": "code",
   "execution_count": 143,
   "metadata": {
    "execution": {
     "iopub.execute_input": "2025-03-05T09:27:45.580956Z",
     "iopub.status.busy": "2025-03-05T09:27:45.580701Z",
     "iopub.status.idle": "2025-03-05T09:27:45.587797Z",
     "shell.execute_reply": "2025-03-05T09:27:45.587312Z",
     "shell.execute_reply.started": "2025-03-05T09:27:45.580939Z"
    }
   },
   "outputs": [],
   "source": [
    "client = boto3.client(\"bedrock-runtime\", region_name = \"us-east-1\") \n",
    "model_id = 'anthropic.claude-3-sonnet-20240229-v1:0'"
   ]
  },
  {
   "cell_type": "markdown",
   "metadata": {},
   "source": [
    "### Predict sentiment labels for the selected 100 reviews without providing any labeled training examples."
   ]
  },
  {
   "cell_type": "code",
   "execution_count": 144,
   "metadata": {
    "execution": {
     "iopub.execute_input": "2025-03-05T09:27:46.378243Z",
     "iopub.status.busy": "2025-03-05T09:27:46.377989Z",
     "iopub.status.idle": "2025-03-05T09:27:46.383051Z",
     "shell.execute_reply": "2025-03-05T09:27:46.382320Z",
     "shell.execute_reply.started": "2025-03-05T09:27:46.378225Z"
    }
   },
   "outputs": [],
   "source": [
    "def classify_sentiments(data):\n",
    "    results = []\n",
    "\n",
    "    for i in data:\n",
    "        messages = [{\"role\": \"user\", \"content\": f\"In only one word classify the sentiment of '{data}' into either Positive or Negative only. Do not use any other words for classification. Use only Positive or Negative\"}]\n",
    "\n",
    "        request_body = {\"anthropic_version\": \"bedrock-2023-05-31\", \"messages\": messages, \"max_tokens\": 512, \"temperature\": 0.1, \"top_p\": 1.0}\n",
    "\n",
    "        try:\n",
    "            response = client.invoke_model(modelId = model_id, contentType = 'application/json', body = json.dumps(request_body))\n",
    "            result = json.loads(response['body'].read().decode())\n",
    "            sentiment = result['content'][0]['text'].strip()\n",
    "            results.append(sentiment)\n",
    "        except Exception as e:\n",
    "            print(f\"Error processing text '{i}': {e}\")\n",
    "            results.append(\"Error\")\n",
    "    return results"
   ]
  },
  {
   "cell_type": "code",
   "execution_count": 145,
   "metadata": {
    "execution": {
     "iopub.execute_input": "2025-03-05T09:27:47.232180Z",
     "iopub.status.busy": "2025-03-05T09:27:47.231925Z",
     "iopub.status.idle": "2025-03-05T09:28:28.529295Z",
     "shell.execute_reply": "2025-03-05T09:28:28.528586Z",
     "shell.execute_reply.started": "2025-03-05T09:27:47.232165Z"
    }
   },
   "outputs": [],
   "source": [
    "df1['Claude3_Prediction'] = classify_sentiments(df1['text'])"
   ]
  },
  {
   "cell_type": "code",
   "execution_count": 146,
   "metadata": {
    "execution": {
     "iopub.execute_input": "2025-03-05T09:28:28.530573Z",
     "iopub.status.busy": "2025-03-05T09:28:28.530302Z",
     "iopub.status.idle": "2025-03-05T09:28:28.539577Z",
     "shell.execute_reply": "2025-03-05T09:28:28.539118Z",
     "shell.execute_reply.started": "2025-03-05T09:28:28.530554Z"
    }
   },
   "outputs": [
    {
     "data": {
      "text/html": [
       "<div>\n",
       "<style scoped>\n",
       "    .dataframe tbody tr th:only-of-type {\n",
       "        vertical-align: middle;\n",
       "    }\n",
       "\n",
       "    .dataframe tbody tr th {\n",
       "        vertical-align: top;\n",
       "    }\n",
       "\n",
       "    .dataframe thead th {\n",
       "        text-align: right;\n",
       "    }\n",
       "</style>\n",
       "<table border=\"1\" class=\"dataframe\">\n",
       "  <thead>\n",
       "    <tr style=\"text-align: right;\">\n",
       "      <th></th>\n",
       "      <th>review_id</th>\n",
       "      <th>user_id</th>\n",
       "      <th>business_id</th>\n",
       "      <th>stars</th>\n",
       "      <th>useful</th>\n",
       "      <th>funny</th>\n",
       "      <th>cool</th>\n",
       "      <th>text</th>\n",
       "      <th>date</th>\n",
       "      <th>Sentiment</th>\n",
       "      <th>Claude3_Prediction</th>\n",
       "    </tr>\n",
       "  </thead>\n",
       "  <tbody>\n",
       "    <tr>\n",
       "      <th>0</th>\n",
       "      <td>YbHV-lgpUp61VmYAPzqboQ</td>\n",
       "      <td>ZYnuyFg0cOEI9dEbYEwXjw</td>\n",
       "      <td>UCMSWPqzXjd7QHq7v8PJjQ</td>\n",
       "      <td>5</td>\n",
       "      <td>1</td>\n",
       "      <td>0</td>\n",
       "      <td>0</td>\n",
       "      <td>Great food &amp; wonderful service.  Have dined ma...</td>\n",
       "      <td>2021-07-18 04:49:48</td>\n",
       "      <td>1</td>\n",
       "      <td>Positive</td>\n",
       "    </tr>\n",
       "    <tr>\n",
       "      <th>1</th>\n",
       "      <td>CIfMJeySdInsnfZqBcQMKw</td>\n",
       "      <td>5oQ8GodXqXOtDmFs3vF2JQ</td>\n",
       "      <td>f82dhKNiUXsDVPMLqKYiIQ</td>\n",
       "      <td>5</td>\n",
       "      <td>0</td>\n",
       "      <td>0</td>\n",
       "      <td>0</td>\n",
       "      <td>I love this place.  I love the renovations.  I...</td>\n",
       "      <td>2020-02-15 16:29:48</td>\n",
       "      <td>1</td>\n",
       "      <td>Positive</td>\n",
       "    </tr>\n",
       "    <tr>\n",
       "      <th>2</th>\n",
       "      <td>wZlBimICAi-l1D7ln9Mjeg</td>\n",
       "      <td>TX2lJ9S0GskrZ6X9bNodyg</td>\n",
       "      <td>wSeEtJ-d2C8vqy5v9La9-g</td>\n",
       "      <td>4</td>\n",
       "      <td>0</td>\n",
       "      <td>0</td>\n",
       "      <td>0</td>\n",
       "      <td>We came to vail to see the Sahuaro buttes and ...</td>\n",
       "      <td>2021-06-07 00:38:50</td>\n",
       "      <td>1</td>\n",
       "      <td>Positive</td>\n",
       "    </tr>\n",
       "    <tr>\n",
       "      <th>3</th>\n",
       "      <td>zl28SdOchQyQLecngKuGgA</td>\n",
       "      <td>FvuREyQJqxnTS3Oy731AIA</td>\n",
       "      <td>OMnPtRGmbY8qH_wIILfYKA</td>\n",
       "      <td>5</td>\n",
       "      <td>3</td>\n",
       "      <td>1</td>\n",
       "      <td>2</td>\n",
       "      <td>Their bruschetta are really good but the porti...</td>\n",
       "      <td>2021-03-14 17:54:33</td>\n",
       "      <td>1</td>\n",
       "      <td>Positive</td>\n",
       "    </tr>\n",
       "    <tr>\n",
       "      <th>4</th>\n",
       "      <td>_zp_f2Hky8NcC8LgZrGd2w</td>\n",
       "      <td>mMJ5EPzkwAkI87bM7_RzNA</td>\n",
       "      <td>OMnPtRGmbY8qH_wIILfYKA</td>\n",
       "      <td>4</td>\n",
       "      <td>0</td>\n",
       "      <td>0</td>\n",
       "      <td>0</td>\n",
       "      <td>Soooooo gooood.  They have their daily special...</td>\n",
       "      <td>2020-10-04 03:20:54</td>\n",
       "      <td>1</td>\n",
       "      <td>Positive</td>\n",
       "    </tr>\n",
       "  </tbody>\n",
       "</table>\n",
       "</div>"
      ],
      "text/plain": [
       "                review_id                 user_id             business_id  \\\n",
       "0  YbHV-lgpUp61VmYAPzqboQ  ZYnuyFg0cOEI9dEbYEwXjw  UCMSWPqzXjd7QHq7v8PJjQ   \n",
       "1  CIfMJeySdInsnfZqBcQMKw  5oQ8GodXqXOtDmFs3vF2JQ  f82dhKNiUXsDVPMLqKYiIQ   \n",
       "2  wZlBimICAi-l1D7ln9Mjeg  TX2lJ9S0GskrZ6X9bNodyg  wSeEtJ-d2C8vqy5v9La9-g   \n",
       "3  zl28SdOchQyQLecngKuGgA  FvuREyQJqxnTS3Oy731AIA  OMnPtRGmbY8qH_wIILfYKA   \n",
       "4  _zp_f2Hky8NcC8LgZrGd2w  mMJ5EPzkwAkI87bM7_RzNA  OMnPtRGmbY8qH_wIILfYKA   \n",
       "\n",
       "   stars  useful  funny  cool  \\\n",
       "0      5       1      0     0   \n",
       "1      5       0      0     0   \n",
       "2      4       0      0     0   \n",
       "3      5       3      1     2   \n",
       "4      4       0      0     0   \n",
       "\n",
       "                                                text                 date  \\\n",
       "0  Great food & wonderful service.  Have dined ma...  2021-07-18 04:49:48   \n",
       "1  I love this place.  I love the renovations.  I...  2020-02-15 16:29:48   \n",
       "2  We came to vail to see the Sahuaro buttes and ...  2021-06-07 00:38:50   \n",
       "3  Their bruschetta are really good but the porti...  2021-03-14 17:54:33   \n",
       "4  Soooooo gooood.  They have their daily special...  2020-10-04 03:20:54   \n",
       "\n",
       "   Sentiment Claude3_Prediction  \n",
       "0          1           Positive  \n",
       "1          1           Positive  \n",
       "2          1           Positive  \n",
       "3          1           Positive  \n",
       "4          1           Positive  "
      ]
     },
     "execution_count": 146,
     "metadata": {},
     "output_type": "execute_result"
    }
   ],
   "source": [
    "df1.head()"
   ]
  },
  {
   "cell_type": "code",
   "execution_count": 147,
   "metadata": {
    "execution": {
     "iopub.execute_input": "2025-03-05T09:28:28.540349Z",
     "iopub.status.busy": "2025-03-05T09:28:28.540139Z",
     "iopub.status.idle": "2025-03-05T09:28:28.546808Z",
     "shell.execute_reply": "2025-03-05T09:28:28.546339Z",
     "shell.execute_reply.started": "2025-03-05T09:28:28.540334Z"
    }
   },
   "outputs": [
    {
     "data": {
      "text/plain": [
       "Claude3_Prediction\n",
       "Positive    100\n",
       "Name: count, dtype: int64"
      ]
     },
     "execution_count": 147,
     "metadata": {},
     "output_type": "execute_result"
    }
   ],
   "source": [
    "df1['Claude3_Prediction'].value_counts()"
   ]
  },
  {
   "cell_type": "markdown",
   "metadata": {},
   "source": [
    "### Evaluate model performance using precision, recall, f1, and accuracy."
   ]
  },
  {
   "cell_type": "code",
   "execution_count": 155,
   "metadata": {
    "execution": {
     "iopub.execute_input": "2025-03-05T09:31:17.251401Z",
     "iopub.status.busy": "2025-03-05T09:31:17.251047Z",
     "iopub.status.idle": "2025-03-05T09:31:17.256173Z",
     "shell.execute_reply": "2025-03-05T09:31:17.255533Z",
     "shell.execute_reply.started": "2025-03-05T09:31:17.251379Z"
    }
   },
   "outputs": [],
   "source": [
    "def evaluate_model_performance(df, pred_col, true_col = \"Sentiment\"):\n",
    "    y_true = df[true_col]\n",
    "    y_pred = df[pred_col].map({\"Positive\": 1, \"Negative\": 0})\n",
    "    \n",
    "    accuracy = accuracy_score(y_true, y_pred)\n",
    "    precision = precision_score(y_true, y_pred)\n",
    "    recall = recall_score(y_true, y_pred)\n",
    "    f1 = f1_score(y_true, y_pred)\n",
    "    \n",
    "    print(f\"Accuracy: {accuracy * 100:.2f}%\")\n",
    "    print(f\"Precision: {precision:.2f}\")\n",
    "    print(f\"Recall: {recall:.2f}\")\n",
    "    print(f\"F1-Score: {f1:.2f}\")"
   ]
  },
  {
   "cell_type": "code",
   "execution_count": 149,
   "metadata": {
    "execution": {
     "iopub.execute_input": "2025-03-05T09:28:28.553988Z",
     "iopub.status.busy": "2025-03-05T09:28:28.553834Z",
     "iopub.status.idle": "2025-03-05T09:28:28.566697Z",
     "shell.execute_reply": "2025-03-05T09:28:28.566179Z",
     "shell.execute_reply.started": "2025-03-05T09:28:28.553974Z"
    }
   },
   "outputs": [
    {
     "name": "stdout",
     "output_type": "stream",
     "text": [
      "Accuracy: 50.00%\n",
      "Precision: 0.50\n",
      "Recall: 1.00\n",
      "F1-Score: 0.67\n"
     ]
    }
   ],
   "source": [
    "evaluate_model_performance(df1, \"Claude3_Prediction\")"
   ]
  },
  {
   "cell_type": "markdown",
   "metadata": {},
   "source": [
    "## Code Cell 4 (20%) - Perform Sentiment Analysis Using Few-Shot Learning"
   ]
  },
  {
   "cell_type": "markdown",
   "metadata": {},
   "source": [
    "### Select a few examples for few-shot learning"
   ]
  },
  {
   "cell_type": "code",
   "execution_count": 150,
   "metadata": {
    "execution": {
     "iopub.execute_input": "2025-03-05T09:28:28.569673Z",
     "iopub.status.busy": "2025-03-05T09:28:28.569532Z",
     "iopub.status.idle": "2025-03-05T09:28:28.579891Z",
     "shell.execute_reply": "2025-03-05T09:28:28.579463Z",
     "shell.execute_reply.started": "2025-03-05T09:28:28.569659Z"
    }
   },
   "outputs": [
    {
     "data": {
      "text/html": [
       "<div>\n",
       "<style scoped>\n",
       "    .dataframe tbody tr th:only-of-type {\n",
       "        vertical-align: middle;\n",
       "    }\n",
       "\n",
       "    .dataframe tbody tr th {\n",
       "        vertical-align: top;\n",
       "    }\n",
       "\n",
       "    .dataframe thead th {\n",
       "        text-align: right;\n",
       "    }\n",
       "</style>\n",
       "<table border=\"1\" class=\"dataframe\">\n",
       "  <thead>\n",
       "    <tr style=\"text-align: right;\">\n",
       "      <th></th>\n",
       "      <th>review_id</th>\n",
       "      <th>user_id</th>\n",
       "      <th>business_id</th>\n",
       "      <th>stars</th>\n",
       "      <th>useful</th>\n",
       "      <th>funny</th>\n",
       "      <th>cool</th>\n",
       "      <th>text</th>\n",
       "      <th>date</th>\n",
       "      <th>Sentiment</th>\n",
       "    </tr>\n",
       "  </thead>\n",
       "  <tbody>\n",
       "    <tr>\n",
       "      <th>0</th>\n",
       "      <td>syOamw-s0vm47Va68rN04Q</td>\n",
       "      <td>4BS4PMY8JCiV09mrgaEmpA</td>\n",
       "      <td>B10mqANgHvL8gBteo1UhAA</td>\n",
       "      <td>4</td>\n",
       "      <td>0</td>\n",
       "      <td>0</td>\n",
       "      <td>0</td>\n",
       "      <td>This restaurant has an authentic Italian vibe ...</td>\n",
       "      <td>2021-05-09 09:48:15</td>\n",
       "      <td>1</td>\n",
       "    </tr>\n",
       "    <tr>\n",
       "      <th>1</th>\n",
       "      <td>xsAs_TwvQWCKqoO47s3pcw</td>\n",
       "      <td>l4qBjoAGw9qvfVWT6kRBIA</td>\n",
       "      <td>fgTOJRkc703E4XRdcr5zRA</td>\n",
       "      <td>4</td>\n",
       "      <td>0</td>\n",
       "      <td>0</td>\n",
       "      <td>0</td>\n",
       "      <td>I will say that the drinks do taste more real ...</td>\n",
       "      <td>2020-08-03 00:41:48</td>\n",
       "      <td>1</td>\n",
       "    </tr>\n",
       "    <tr>\n",
       "      <th>2</th>\n",
       "      <td>By1aYbG4pTW3_WK0wKMfrg</td>\n",
       "      <td>qsJJKbrm4ce_0MUFRpox6A</td>\n",
       "      <td>8QJTzIaR5FceGds8HBSIig</td>\n",
       "      <td>5</td>\n",
       "      <td>0</td>\n",
       "      <td>0</td>\n",
       "      <td>0</td>\n",
       "      <td>Barrio Brewing is a great place to go. Don't b...</td>\n",
       "      <td>2020-10-11 01:58:27</td>\n",
       "      <td>1</td>\n",
       "    </tr>\n",
       "    <tr>\n",
       "      <th>3</th>\n",
       "      <td>_bUyjGDqeJst7nDih6hAHw</td>\n",
       "      <td>rqzcmK4ysvFA_sbgYaSmdg</td>\n",
       "      <td>UCMSWPqzXjd7QHq7v8PJjQ</td>\n",
       "      <td>5</td>\n",
       "      <td>4</td>\n",
       "      <td>0</td>\n",
       "      <td>1</td>\n",
       "      <td>I am a big breakfast and brunch eater when I v...</td>\n",
       "      <td>2020-01-11 14:42:29</td>\n",
       "      <td>1</td>\n",
       "    </tr>\n",
       "    <tr>\n",
       "      <th>4</th>\n",
       "      <td>HO2GaavIMgnYnsJcdwLIVw</td>\n",
       "      <td>NbDPSGB_lfZXOwOcAJX3oA</td>\n",
       "      <td>OMnPtRGmbY8qH_wIILfYKA</td>\n",
       "      <td>5</td>\n",
       "      <td>0</td>\n",
       "      <td>0</td>\n",
       "      <td>0</td>\n",
       "      <td>I'm in love! The wine glasses are crystal clea...</td>\n",
       "      <td>2021-01-30 19:04:23</td>\n",
       "      <td>1</td>\n",
       "    </tr>\n",
       "  </tbody>\n",
       "</table>\n",
       "</div>"
      ],
      "text/plain": [
       "                review_id                 user_id             business_id  \\\n",
       "0  syOamw-s0vm47Va68rN04Q  4BS4PMY8JCiV09mrgaEmpA  B10mqANgHvL8gBteo1UhAA   \n",
       "1  xsAs_TwvQWCKqoO47s3pcw  l4qBjoAGw9qvfVWT6kRBIA  fgTOJRkc703E4XRdcr5zRA   \n",
       "2  By1aYbG4pTW3_WK0wKMfrg  qsJJKbrm4ce_0MUFRpox6A  8QJTzIaR5FceGds8HBSIig   \n",
       "3  _bUyjGDqeJst7nDih6hAHw  rqzcmK4ysvFA_sbgYaSmdg  UCMSWPqzXjd7QHq7v8PJjQ   \n",
       "4  HO2GaavIMgnYnsJcdwLIVw  NbDPSGB_lfZXOwOcAJX3oA  OMnPtRGmbY8qH_wIILfYKA   \n",
       "\n",
       "   stars  useful  funny  cool  \\\n",
       "0      4       0      0     0   \n",
       "1      4       0      0     0   \n",
       "2      5       0      0     0   \n",
       "3      5       4      0     1   \n",
       "4      5       0      0     0   \n",
       "\n",
       "                                                text                 date  \\\n",
       "0  This restaurant has an authentic Italian vibe ...  2021-05-09 09:48:15   \n",
       "1  I will say that the drinks do taste more real ...  2020-08-03 00:41:48   \n",
       "2  Barrio Brewing is a great place to go. Don't b...  2020-10-11 01:58:27   \n",
       "3  I am a big breakfast and brunch eater when I v...  2020-01-11 14:42:29   \n",
       "4  I'm in love! The wine glasses are crystal clea...  2021-01-30 19:04:23   \n",
       "\n",
       "   Sentiment  \n",
       "0          1  \n",
       "1          1  \n",
       "2          1  \n",
       "3          1  \n",
       "4          1  "
      ]
     },
     "execution_count": 150,
     "metadata": {},
     "output_type": "execute_result"
    }
   ],
   "source": [
    "positive_reviews = df[df['Sentiment'] == 1].sample(n=50)\n",
    "negative_reviews = df[df['Sentiment'] == 0].sample(n=50)\n",
    "\n",
    "df2 = pd.concat([positive_reviews, negative_reviews]).reset_index(drop=True)\n",
    "df2.head()"
   ]
  },
  {
   "cell_type": "markdown",
   "metadata": {
    "execution": {
     "iopub.execute_input": "2025-03-05T09:04:07.008518Z",
     "iopub.status.busy": "2025-03-05T09:04:07.008043Z",
     "iopub.status.idle": "2025-03-05T09:04:07.011505Z",
     "shell.execute_reply": "2025-03-05T09:04:07.010978Z",
     "shell.execute_reply.started": "2025-03-05T09:04:07.008495Z"
    }
   },
   "source": [
    "### Use the example(s) to guide the LLM in classifying sentiment for the selected 100 reviews."
   ]
  },
  {
   "cell_type": "code",
   "execution_count": 151,
   "metadata": {
    "execution": {
     "iopub.execute_input": "2025-03-05T09:28:28.582305Z",
     "iopub.status.busy": "2025-03-05T09:28:28.582121Z",
     "iopub.status.idle": "2025-03-05T09:29:23.185773Z",
     "shell.execute_reply": "2025-03-05T09:29:23.184963Z",
     "shell.execute_reply.started": "2025-03-05T09:28:28.582287Z"
    }
   },
   "outputs": [],
   "source": [
    "few_shot_prefix = \"\"\"\n",
    "Examples:\n",
    "1. \"Amazing food, great service!\" -> Positive\n",
    "2. \"Terrible experience, rude staff.\" -> Negative\n",
    "3. \"It was okay, nothing special.\" -> Positive\n",
    "4. \"Slow delivery, cold meal.\" -> Negative\n",
    "\"\"\"\n",
    "df2['Claude3_FewShot_Prediction'] = classify_sentiments(few_shot_prefix + df2['text'])"
   ]
  },
  {
   "cell_type": "code",
   "execution_count": 152,
   "metadata": {
    "execution": {
     "iopub.execute_input": "2025-03-05T09:29:23.186850Z",
     "iopub.status.busy": "2025-03-05T09:29:23.186542Z",
     "iopub.status.idle": "2025-03-05T09:29:23.193200Z",
     "shell.execute_reply": "2025-03-05T09:29:23.192326Z",
     "shell.execute_reply.started": "2025-03-05T09:29:23.186819Z"
    }
   },
   "outputs": [
    {
     "data": {
      "text/plain": [
       "Claude3_FewShot_Prediction\n",
       "Negative    97\n",
       "Positive     3\n",
       "Name: count, dtype: int64"
      ]
     },
     "execution_count": 152,
     "metadata": {},
     "output_type": "execute_result"
    }
   ],
   "source": [
    "df2.Claude3_FewShot_Prediction.value_counts()"
   ]
  },
  {
   "cell_type": "markdown",
   "metadata": {},
   "source": [
    "### Evaluate model performance using precision, recall, f1, and accuracy."
   ]
  },
  {
   "cell_type": "code",
   "execution_count": 156,
   "metadata": {
    "execution": {
     "iopub.execute_input": "2025-03-05T09:31:20.498227Z",
     "iopub.status.busy": "2025-03-05T09:31:20.497920Z",
     "iopub.status.idle": "2025-03-05T09:31:20.511369Z",
     "shell.execute_reply": "2025-03-05T09:31:20.510630Z",
     "shell.execute_reply.started": "2025-03-05T09:31:20.498192Z"
    }
   },
   "outputs": [
    {
     "name": "stdout",
     "output_type": "stream",
     "text": [
      "Accuracy: 53.00%\n",
      "Precision: 1.00\n",
      "Recall: 0.06\n",
      "F1-Score: 0.11\n"
     ]
    }
   ],
   "source": [
    "evaluate_model_performance(df2, \"Claude3_FewShot_Prediction\")"
   ]
  },
  {
   "cell_type": "markdown",
   "metadata": {},
   "source": [
    "## Code Cell 5 (20%) - Experiment with Multiple LLMs"
   ]
  },
  {
   "cell_type": "markdown",
   "metadata": {},
   "source": [
    "### Select two distinct LLMs (e.g., Claude, LLaMA) for sentiment analysis."
   ]
  },
  {
   "cell_type": "code",
   "execution_count": null,
   "metadata": {},
   "outputs": [],
   "source": []
  }
 ],
 "metadata": {
  "kernelspec": {
   "display_name": "Python 3 (ipykernel)",
   "language": "python",
   "name": "python3"
  },
  "language_info": {
   "codemirror_mode": {
    "name": "ipython",
    "version": 3
   },
   "file_extension": ".py",
   "mimetype": "text/x-python",
   "name": "python",
   "nbconvert_exporter": "python",
   "pygments_lexer": "ipython3",
   "version": "3.11.11"
  }
 },
 "nbformat": 4,
 "nbformat_minor": 4
}
