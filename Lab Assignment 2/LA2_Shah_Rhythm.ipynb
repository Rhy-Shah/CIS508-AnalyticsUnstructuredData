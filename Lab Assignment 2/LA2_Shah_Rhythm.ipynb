{
  "cells": [
    {
      "cell_type": "markdown",
      "metadata": {},
      "source": [
        "Lab Assignment 2\n",
        "\n",
        "~ Rhythm Shah\n",
        "\n",
        "~ 1233960561\n",
        "\n",
        "~ 02/05/2025"
      ]
    },
    {
      "cell_type": "markdown",
      "metadata": {},
      "source": [
        "## Code Cell 1 (5%) :  Library and data import (use the first 10000 rows). Show the summary of the input data."
      ]
    },
    {
      "cell_type": "markdown",
      "metadata": {},
      "source": [
        "Importing all the required Libraries & then reading the dataset"
      ]
    },
    {
      "cell_type": "code",
      "execution_count": 1,
      "metadata": {
        "colab": {
          "base_uri": "https://localhost:8080/"
        },
        "id": "Y3vBX3Pv60p_",
        "outputId": "e3ffa2e8-8a04-4950-db45-b144fffed54c"
      },
      "outputs": [
        {
          "data": {
            "text/html": [
              "<div>\n",
              "<style scoped>\n",
              "    .dataframe tbody tr th:only-of-type {\n",
              "        vertical-align: middle;\n",
              "    }\n",
              "\n",
              "    .dataframe tbody tr th {\n",
              "        vertical-align: top;\n",
              "    }\n",
              "\n",
              "    .dataframe thead th {\n",
              "        text-align: right;\n",
              "    }\n",
              "</style>\n",
              "<table border=\"1\" class=\"dataframe\">\n",
              "  <thead>\n",
              "    <tr style=\"text-align: right;\">\n",
              "      <th></th>\n",
              "      <th>review_id</th>\n",
              "      <th>user_id</th>\n",
              "      <th>business_id</th>\n",
              "      <th>stars</th>\n",
              "      <th>useful</th>\n",
              "      <th>funny</th>\n",
              "      <th>cool</th>\n",
              "      <th>text</th>\n",
              "      <th>date</th>\n",
              "      <th>Sentiment</th>\n",
              "    </tr>\n",
              "  </thead>\n",
              "  <tbody>\n",
              "    <tr>\n",
              "      <th>0</th>\n",
              "      <td>IVS7do_HBzroiCiymNdxDg</td>\n",
              "      <td>fdFgZQQYQJeEAshH4lxSfQ</td>\n",
              "      <td>sGy67CpJctjeCWClWqonjA</td>\n",
              "      <td>3</td>\n",
              "      <td>1</td>\n",
              "      <td>1</td>\n",
              "      <td>0</td>\n",
              "      <td>OK, the hype about having Hatch chili in your ...</td>\n",
              "      <td>1/27/2020 22:59</td>\n",
              "      <td>1</td>\n",
              "    </tr>\n",
              "    <tr>\n",
              "      <th>1</th>\n",
              "      <td>QP2pSzSqpJTMWOCuUuyXkQ</td>\n",
              "      <td>JBLWSXBTKFvJYYiM-FnCOQ</td>\n",
              "      <td>3w7NRntdQ9h0KwDsksIt5Q</td>\n",
              "      <td>5</td>\n",
              "      <td>1</td>\n",
              "      <td>1</td>\n",
              "      <td>1</td>\n",
              "      <td>Pandemic pit stop to have an ice cream.... onl...</td>\n",
              "      <td>4/19/2020 5:33</td>\n",
              "      <td>1</td>\n",
              "    </tr>\n",
              "    <tr>\n",
              "      <th>2</th>\n",
              "      <td>oK0cGYStgDOusZKz9B1qug</td>\n",
              "      <td>2_9fKnXChUjC5xArfF8BLg</td>\n",
              "      <td>OMnPtRGmbY8qH_wIILfYKA</td>\n",
              "      <td>5</td>\n",
              "      <td>1</td>\n",
              "      <td>0</td>\n",
              "      <td>0</td>\n",
              "      <td>I was lucky enough to go to the soft opening a...</td>\n",
              "      <td>2/29/2020 19:43</td>\n",
              "      <td>1</td>\n",
              "    </tr>\n",
              "    <tr>\n",
              "      <th>3</th>\n",
              "      <td>E_ABvFCNVLbfOgRg3Pv1KQ</td>\n",
              "      <td>9MExTQ76GSKhxSWnTS901g</td>\n",
              "      <td>V9XlikTxq0My4gE8LULsjw</td>\n",
              "      <td>5</td>\n",
              "      <td>0</td>\n",
              "      <td>0</td>\n",
              "      <td>0</td>\n",
              "      <td>I've gone to claim Jumpers all over the US and...</td>\n",
              "      <td>3/14/2020 21:47</td>\n",
              "      <td>1</td>\n",
              "    </tr>\n",
              "    <tr>\n",
              "      <th>4</th>\n",
              "      <td>Rd222CrrnXkXukR2iWj69g</td>\n",
              "      <td>LPxuausjvDN88uPr-Q4cQA</td>\n",
              "      <td>CA5BOxKRDPGJgdUQ8OUOpw</td>\n",
              "      <td>4</td>\n",
              "      <td>1</td>\n",
              "      <td>0</td>\n",
              "      <td>0</td>\n",
              "      <td>If you haven't been  to Maynard's kitchen, it'...</td>\n",
              "      <td>1/17/2020 20:32</td>\n",
              "      <td>1</td>\n",
              "    </tr>\n",
              "    <tr>\n",
              "      <th>...</th>\n",
              "      <td>...</td>\n",
              "      <td>...</td>\n",
              "      <td>...</td>\n",
              "      <td>...</td>\n",
              "      <td>...</td>\n",
              "      <td>...</td>\n",
              "      <td>...</td>\n",
              "      <td>...</td>\n",
              "      <td>...</td>\n",
              "      <td>...</td>\n",
              "    </tr>\n",
              "    <tr>\n",
              "      <th>9995</th>\n",
              "      <td>_W0OFIxgwbwRhpEPTKHqHg</td>\n",
              "      <td>e-x6Jaeqts5UU5631UpgXQ</td>\n",
              "      <td>dhj16roKb6Z-TyJ0w6iqjQ</td>\n",
              "      <td>3</td>\n",
              "      <td>2</td>\n",
              "      <td>0</td>\n",
              "      <td>1</td>\n",
              "      <td>Found this tepanyaki restaurant a few years ag...</td>\n",
              "      <td>10/12/2021 2:08</td>\n",
              "      <td>0</td>\n",
              "    </tr>\n",
              "    <tr>\n",
              "      <th>9996</th>\n",
              "      <td>Fppk7c4xmBJsUGRCB4ho7A</td>\n",
              "      <td>ZNeup5N06v8liYL3BolGsA</td>\n",
              "      <td>#NAME?</td>\n",
              "      <td>5</td>\n",
              "      <td>0</td>\n",
              "      <td>0</td>\n",
              "      <td>0</td>\n",
              "      <td>This was our first time in Tucson. We decided ...</td>\n",
              "      <td>1/14/2022 23:09</td>\n",
              "      <td>1</td>\n",
              "    </tr>\n",
              "    <tr>\n",
              "      <th>9997</th>\n",
              "      <td>fI3v-kTUtE7alT2RtOGzvA</td>\n",
              "      <td>P98oZ7bYaerBmDqdMHU0mQ</td>\n",
              "      <td>dhj16roKb6Z-TyJ0w6iqjQ</td>\n",
              "      <td>1</td>\n",
              "      <td>1</td>\n",
              "      <td>1</td>\n",
              "      <td>0</td>\n",
              "      <td>We had a birthday dinner reservation at 8:00 w...</td>\n",
              "      <td>2/21/2021 18:40</td>\n",
              "      <td>0</td>\n",
              "    </tr>\n",
              "    <tr>\n",
              "      <th>9998</th>\n",
              "      <td>CjwMkf9nFa7ZNmbwMezcaQ</td>\n",
              "      <td>Js1FsZ6oP_9tO5tbJN-d2g</td>\n",
              "      <td>vI-2mPYOgfix5LcaqDOy_g</td>\n",
              "      <td>4</td>\n",
              "      <td>8</td>\n",
              "      <td>4</td>\n",
              "      <td>7</td>\n",
              "      <td>Took my parents to dinner here for my Dads bir...</td>\n",
              "      <td>5/19/2021 3:06</td>\n",
              "      <td>1</td>\n",
              "    </tr>\n",
              "    <tr>\n",
              "      <th>9999</th>\n",
              "      <td>DKTEZhQJ-4I45QYMjg7AQA</td>\n",
              "      <td>tePKKwM-pndzEPJsWYY87w</td>\n",
              "      <td>YlIdPonLaJUGcM7MKDLV8Q</td>\n",
              "      <td>2</td>\n",
              "      <td>0</td>\n",
              "      <td>0</td>\n",
              "      <td>0</td>\n",
              "      <td>Sad place this sbarro at the outlet mall. They...</td>\n",
              "      <td>8/16/2021 15:35</td>\n",
              "      <td>0</td>\n",
              "    </tr>\n",
              "  </tbody>\n",
              "</table>\n",
              "<p>10000 rows × 10 columns</p>\n",
              "</div>"
            ],
            "text/plain": [
              "                   review_id                 user_id             business_id  \\\n",
              "0     IVS7do_HBzroiCiymNdxDg  fdFgZQQYQJeEAshH4lxSfQ  sGy67CpJctjeCWClWqonjA   \n",
              "1     QP2pSzSqpJTMWOCuUuyXkQ  JBLWSXBTKFvJYYiM-FnCOQ  3w7NRntdQ9h0KwDsksIt5Q   \n",
              "2     oK0cGYStgDOusZKz9B1qug  2_9fKnXChUjC5xArfF8BLg  OMnPtRGmbY8qH_wIILfYKA   \n",
              "3     E_ABvFCNVLbfOgRg3Pv1KQ  9MExTQ76GSKhxSWnTS901g  V9XlikTxq0My4gE8LULsjw   \n",
              "4     Rd222CrrnXkXukR2iWj69g  LPxuausjvDN88uPr-Q4cQA  CA5BOxKRDPGJgdUQ8OUOpw   \n",
              "...                      ...                     ...                     ...   \n",
              "9995  _W0OFIxgwbwRhpEPTKHqHg  e-x6Jaeqts5UU5631UpgXQ  dhj16roKb6Z-TyJ0w6iqjQ   \n",
              "9996  Fppk7c4xmBJsUGRCB4ho7A  ZNeup5N06v8liYL3BolGsA                  #NAME?   \n",
              "9997  fI3v-kTUtE7alT2RtOGzvA  P98oZ7bYaerBmDqdMHU0mQ  dhj16roKb6Z-TyJ0w6iqjQ   \n",
              "9998  CjwMkf9nFa7ZNmbwMezcaQ  Js1FsZ6oP_9tO5tbJN-d2g  vI-2mPYOgfix5LcaqDOy_g   \n",
              "9999  DKTEZhQJ-4I45QYMjg7AQA  tePKKwM-pndzEPJsWYY87w  YlIdPonLaJUGcM7MKDLV8Q   \n",
              "\n",
              "      stars  useful  funny  cool  \\\n",
              "0         3       1      1     0   \n",
              "1         5       1      1     1   \n",
              "2         5       1      0     0   \n",
              "3         5       0      0     0   \n",
              "4         4       1      0     0   \n",
              "...     ...     ...    ...   ...   \n",
              "9995      3       2      0     1   \n",
              "9996      5       0      0     0   \n",
              "9997      1       1      1     0   \n",
              "9998      4       8      4     7   \n",
              "9999      2       0      0     0   \n",
              "\n",
              "                                                   text             date  \\\n",
              "0     OK, the hype about having Hatch chili in your ...  1/27/2020 22:59   \n",
              "1     Pandemic pit stop to have an ice cream.... onl...   4/19/2020 5:33   \n",
              "2     I was lucky enough to go to the soft opening a...  2/29/2020 19:43   \n",
              "3     I've gone to claim Jumpers all over the US and...  3/14/2020 21:47   \n",
              "4     If you haven't been  to Maynard's kitchen, it'...  1/17/2020 20:32   \n",
              "...                                                 ...              ...   \n",
              "9995  Found this tepanyaki restaurant a few years ag...  10/12/2021 2:08   \n",
              "9996  This was our first time in Tucson. We decided ...  1/14/2022 23:09   \n",
              "9997  We had a birthday dinner reservation at 8:00 w...  2/21/2021 18:40   \n",
              "9998  Took my parents to dinner here for my Dads bir...   5/19/2021 3:06   \n",
              "9999  Sad place this sbarro at the outlet mall. They...  8/16/2021 15:35   \n",
              "\n",
              "      Sentiment  \n",
              "0             1  \n",
              "1             1  \n",
              "2             1  \n",
              "3             1  \n",
              "4             1  \n",
              "...         ...  \n",
              "9995          0  \n",
              "9996          1  \n",
              "9997          0  \n",
              "9998          1  \n",
              "9999          0  \n",
              "\n",
              "[10000 rows x 10 columns]"
            ]
          },
          "execution_count": 1,
          "metadata": {},
          "output_type": "execute_result"
        }
      ],
      "source": [
        "import pandas as pd\n",
        "import numpy as np\n",
        "from sklearn.model_selection import train_test_split\n",
        "from sklearn.feature_extraction.text import CountVectorizer, TfidfVectorizer\n",
        "from sklearn.naive_bayes import MultinomialNB\n",
        "from sklearn.svm import SVC\n",
        "from sklearn.linear_model import LogisticRegression\n",
        "from sklearn.metrics import classification_report, accuracy_score\n",
        "from vaderSentiment.vaderSentiment import SentimentIntensityAnalyzer\n",
        "\n",
        "df = pd.read_csv('restaurant_reviews_az.csv', nrows=10000)\n",
        "df"
      ]
    },
    {
      "cell_type": "markdown",
      "metadata": {},
      "source": [
        "This dataset has 10000 columns and 10 features."
      ]
    },
    {
      "cell_type": "markdown",
      "metadata": {},
      "source": [
        "## Code Cell 2 (10%) - Conduct necessary data processing & then apply lexicon-based approach with VaderSentiment to predict sentiment"
      ]
    },
    {
      "cell_type": "code",
      "execution_count": 2,
      "metadata": {
        "id": "srfF0d0R7LPM"
      },
      "outputs": [
        {
          "data": {
            "text/html": [
              "<div>\n",
              "<style scoped>\n",
              "    .dataframe tbody tr th:only-of-type {\n",
              "        vertical-align: middle;\n",
              "    }\n",
              "\n",
              "    .dataframe tbody tr th {\n",
              "        vertical-align: top;\n",
              "    }\n",
              "\n",
              "    .dataframe thead th {\n",
              "        text-align: right;\n",
              "    }\n",
              "</style>\n",
              "<table border=\"1\" class=\"dataframe\">\n",
              "  <thead>\n",
              "    <tr style=\"text-align: right;\">\n",
              "      <th></th>\n",
              "      <th>review_id</th>\n",
              "      <th>user_id</th>\n",
              "      <th>business_id</th>\n",
              "      <th>stars</th>\n",
              "      <th>useful</th>\n",
              "      <th>funny</th>\n",
              "      <th>cool</th>\n",
              "      <th>text</th>\n",
              "      <th>date</th>\n",
              "      <th>Sentiment</th>\n",
              "      <th>vader_sentiment</th>\n",
              "      <th>vader_label</th>\n",
              "    </tr>\n",
              "  </thead>\n",
              "  <tbody>\n",
              "    <tr>\n",
              "      <th>0</th>\n",
              "      <td>IVS7do_HBzroiCiymNdxDg</td>\n",
              "      <td>fdFgZQQYQJeEAshH4lxSfQ</td>\n",
              "      <td>sGy67CpJctjeCWClWqonjA</td>\n",
              "      <td>3</td>\n",
              "      <td>1</td>\n",
              "      <td>1</td>\n",
              "      <td>0</td>\n",
              "      <td>ok, the hype about having hatch chili in your ...</td>\n",
              "      <td>1/27/2020 22:59</td>\n",
              "      <td>1</td>\n",
              "      <td>0.9860</td>\n",
              "      <td>positive</td>\n",
              "    </tr>\n",
              "    <tr>\n",
              "      <th>1</th>\n",
              "      <td>QP2pSzSqpJTMWOCuUuyXkQ</td>\n",
              "      <td>JBLWSXBTKFvJYYiM-FnCOQ</td>\n",
              "      <td>3w7NRntdQ9h0KwDsksIt5Q</td>\n",
              "      <td>5</td>\n",
              "      <td>1</td>\n",
              "      <td>1</td>\n",
              "      <td>1</td>\n",
              "      <td>pandemic pit stop to have an ice cream.... onl...</td>\n",
              "      <td>4/19/2020 5:33</td>\n",
              "      <td>1</td>\n",
              "      <td>0.5877</td>\n",
              "      <td>positive</td>\n",
              "    </tr>\n",
              "    <tr>\n",
              "      <th>2</th>\n",
              "      <td>oK0cGYStgDOusZKz9B1qug</td>\n",
              "      <td>2_9fKnXChUjC5xArfF8BLg</td>\n",
              "      <td>OMnPtRGmbY8qH_wIILfYKA</td>\n",
              "      <td>5</td>\n",
              "      <td>1</td>\n",
              "      <td>0</td>\n",
              "      <td>0</td>\n",
              "      <td>i was lucky enough to go to the soft opening a...</td>\n",
              "      <td>2/29/2020 19:43</td>\n",
              "      <td>1</td>\n",
              "      <td>0.9732</td>\n",
              "      <td>positive</td>\n",
              "    </tr>\n",
              "    <tr>\n",
              "      <th>3</th>\n",
              "      <td>E_ABvFCNVLbfOgRg3Pv1KQ</td>\n",
              "      <td>9MExTQ76GSKhxSWnTS901g</td>\n",
              "      <td>V9XlikTxq0My4gE8LULsjw</td>\n",
              "      <td>5</td>\n",
              "      <td>0</td>\n",
              "      <td>0</td>\n",
              "      <td>0</td>\n",
              "      <td>i've gone to claim jumpers all over the us and...</td>\n",
              "      <td>3/14/2020 21:47</td>\n",
              "      <td>1</td>\n",
              "      <td>0.9327</td>\n",
              "      <td>positive</td>\n",
              "    </tr>\n",
              "    <tr>\n",
              "      <th>4</th>\n",
              "      <td>Rd222CrrnXkXukR2iWj69g</td>\n",
              "      <td>LPxuausjvDN88uPr-Q4cQA</td>\n",
              "      <td>CA5BOxKRDPGJgdUQ8OUOpw</td>\n",
              "      <td>4</td>\n",
              "      <td>1</td>\n",
              "      <td>0</td>\n",
              "      <td>0</td>\n",
              "      <td>if you haven't been  to maynard's kitchen, it'...</td>\n",
              "      <td>1/17/2020 20:32</td>\n",
              "      <td>1</td>\n",
              "      <td>0.9817</td>\n",
              "      <td>positive</td>\n",
              "    </tr>\n",
              "  </tbody>\n",
              "</table>\n",
              "</div>"
            ],
            "text/plain": [
              "                review_id                 user_id             business_id  \\\n",
              "0  IVS7do_HBzroiCiymNdxDg  fdFgZQQYQJeEAshH4lxSfQ  sGy67CpJctjeCWClWqonjA   \n",
              "1  QP2pSzSqpJTMWOCuUuyXkQ  JBLWSXBTKFvJYYiM-FnCOQ  3w7NRntdQ9h0KwDsksIt5Q   \n",
              "2  oK0cGYStgDOusZKz9B1qug  2_9fKnXChUjC5xArfF8BLg  OMnPtRGmbY8qH_wIILfYKA   \n",
              "3  E_ABvFCNVLbfOgRg3Pv1KQ  9MExTQ76GSKhxSWnTS901g  V9XlikTxq0My4gE8LULsjw   \n",
              "4  Rd222CrrnXkXukR2iWj69g  LPxuausjvDN88uPr-Q4cQA  CA5BOxKRDPGJgdUQ8OUOpw   \n",
              "\n",
              "   stars  useful  funny  cool  \\\n",
              "0      3       1      1     0   \n",
              "1      5       1      1     1   \n",
              "2      5       1      0     0   \n",
              "3      5       0      0     0   \n",
              "4      4       1      0     0   \n",
              "\n",
              "                                                text             date  \\\n",
              "0  ok, the hype about having hatch chili in your ...  1/27/2020 22:59   \n",
              "1  pandemic pit stop to have an ice cream.... onl...   4/19/2020 5:33   \n",
              "2  i was lucky enough to go to the soft opening a...  2/29/2020 19:43   \n",
              "3  i've gone to claim jumpers all over the us and...  3/14/2020 21:47   \n",
              "4  if you haven't been  to maynard's kitchen, it'...  1/17/2020 20:32   \n",
              "\n",
              "   Sentiment  vader_sentiment vader_label  \n",
              "0          1           0.9860    positive  \n",
              "1          1           0.5877    positive  \n",
              "2          1           0.9732    positive  \n",
              "3          1           0.9327    positive  \n",
              "4          1           0.9817    positive  "
            ]
          },
          "execution_count": 2,
          "metadata": {},
          "output_type": "execute_result"
        }
      ],
      "source": [
        "df['text'] = df['text'].fillna('')  # Fill NaN values\n",
        "df['text'] = df['text'].str.lower()  # Convert to lowercase\n",
        "\n",
        "analyzer = SentimentIntensityAnalyzer()\n",
        "\n",
        "def get_sentiment(text):\n",
        "    return analyzer.polarity_scores(text)['compound']\n",
        "df['vader_sentiment'] = df['text'].apply(get_sentiment)\n",
        "\n",
        "df['vader_label'] = pd.cut(df['vader_sentiment'], bins=[-1, -0.05, 0.05, 1],labels=['negative', 'neutral', 'positive'])\n",
        "df.head()"
      ]
    },
    {
      "cell_type": "code",
      "execution_count": 3,
      "metadata": {},
      "outputs": [
        {
          "data": {
            "image/png": "[encoded data removed]",
            "text/plain": [
              "<Figure size 640x480 with 1 Axes>"
            ]
          },
          "metadata": {},
          "output_type": "display_data"
        }
      ],
      "source": [
        "import matplotlib.pyplot as plt\n",
        "\n",
        "df['vader_label'].value_counts().plot(kind='bar', color=['red', 'gray', 'green'])\n",
        "plt.title(\"VADER Sentiment Distribution\")\n",
        "plt.xlabel(\"Sentiment\")\n",
        "plt.xticks(rotation = 0)\n",
        "plt.ylabel(\"Count\")\n",
        "plt.show()"
      ]
    },
    {
      "cell_type": "markdown",
      "metadata": {},
      "source": [
        "Imputed missing values and converted all the text to lowercase. Then perfomed VaderSentiment to predict the sentiments and store in vader_label."
      ]
    },
    {
      "cell_type": "markdown",
      "metadata": {},
      "source": [
        "## Code Cell 3 (5%) - Set up review text & sentiment label. Prepare the training & test sets using data split. Quantify with bag of words vectorization using Count Vectorizer"
      ]
    },
    {
      "cell_type": "code",
      "execution_count": 4,
      "metadata": {
        "id": "cIYT1k0w9YAd"
      },
      "outputs": [
        {
          "data": {
            "text/plain": [
              "array(['00', '10', '100', '11', '12', '15', '19', '20', '25', '30', '40',\n",
              "       '45', '50', 'able', 'about', 'above', 'absolutely', 'across',\n",
              "       'actually', 'add', 'added', 'after', 'again', 'ago', 'ahead', 'al',\n",
              "       'all', 'almost', 'along', 'already', 'also', 'although', 'always',\n",
              "       'am', 'amazing', 'ambiance', 'amount', 'an', 'and', 'angel',\n",
              "       'another', 'any', 'anyone', 'anything', 'anywhere', 'app',\n",
              "       'appetizer', 'appetizers', 'appreciate', 'are', 'area', 'arizona',\n",
              "       'around', 'arrived', 'as', 'asada', 'ask', 'asked', 'asking', 'at',\n",
              "       'ate', 'atmosphere', 'attention', 'attentive', 'attitude',\n",
              "       'authentic', 'available', 'average', 'avocado', 'away', 'awesome',\n",
              "       'awful', 'back', 'bacon', 'bad', 'baked', 'bar', 'barely',\n",
              "       'barrio', 'bartender', 'based', 'basil', 'bbq', 'be', 'beans',\n",
              "       'beautiful', 'because', 'beef', 'been', 'beer', 'beers', 'before',\n",
              "       'behind', 'being', 'believe', 'best', 'better', 'between',\n",
              "       'beyond', 'big', 'bill', 'birthday', 'bit', 'bite', 'bites',\n",
              "       'black', 'bland', 'board', 'bomb', 'both', 'bowl', 'box',\n",
              "       'boyfriend', 'bread', 'breakfast', 'bring', 'brisket', 'broth',\n",
              "       'brought', 'brunch', 'bruschetta', 'burger', 'burgers', 'burrito',\n",
              "       'burritos', 'business', 'busy', 'but', 'butter', 'buy', 'by',\n",
              "       'cafe', 'cake', 'call', 'called', 'came', 'can', 'cannot', 'car',\n",
              "       'card', 'care', 'carne', 'cashier', 'casino', 'certainly',\n",
              "       'chance', 'change', 'changed', 'charge', 'charged', 'charro',\n",
              "       'cheap', 'check', 'checked', 'cheese', 'chef', 'chicken', 'chile',\n",
              "       'chili', 'chinese', 'chips', 'chocolate', 'choice', 'choices',\n",
              "       'choose', 'chorizo', 'chose', 'classic', 'clean', 'clearly',\n",
              "       'close', 'closed', 'cocktails', 'coffee', 'cold', 'combo', 'come',\n",
              "       'comes', 'comfortable', 'coming', 'completely', 'cook', 'cooked',\n",
              "       'cool', 'corn', 'correct', 'cost', 'could', 'couldn', 'counter',\n",
              "       'couple', 'course', 'covid', 'craving', 'cream', 'creamy', 'crisp',\n",
              "       'crispy', 'crunchy', 'crust', 'cup', 'curry', 'customer',\n",
              "       'customers', 'cut', 'cute', 'date', 'daughter', 'day', 'days',\n",
              "       'de', 'deal', 'decent', 'decided', 'decor', 'definitely', 'del',\n",
              "       'delicious', 'delivered', 'delivery', 'desert', 'dessert', 'did',\n",
              "       'didn', 'die', 'different', 'dine', 'dining', 'dinner', 'dirty',\n",
              "       'disappoint', 'disappointed', 'disappointing', 'disappointment',\n",
              "       'dish', 'dishes', 'distancing', 'do', 'does', 'doesn', 'dog',\n",
              "       'dogs', 'doing', 'dollars', 'don', 'done', 'door', 'down',\n",
              "       'downtown', 'dressing', 'drink', 'drinks', 'drive', 'drunken',\n",
              "       'dry', 'due', 'during', 'each', 'early', 'easily', 'easy', 'eat',\n",
              "       'eaten', 'eating', 'efficient', 'egg', 'eggplant', 'eggs',\n",
              "       'either', 'el', 'else', 'employee', 'employees', 'empty',\n",
              "       'enchiladas', 'end', 'ended', 'enjoy', 'enjoyed', 'enough',\n",
              "       'entire', 'entrees', 'environment', 'especially', 'establishment',\n",
              "       'etc', 'even', 'evening', 'ever', 'every', 'everyone',\n",
              "       'everything', 'exactly', 'excellent', 'excited', 'expect',\n",
              "       'expected', 'expensive', 'experience', 'extra', 'extremely',\n",
              "       'fabulous', 'fact', 'family', 'fan', 'fantastic', 'far', 'fast',\n",
              "       'favorite', 'favorites', 'feel', 'felt', 'few', 'filled',\n",
              "       'filling', 'finally', 'find', 'fine', 'finish', 'first', 'fish',\n",
              "       'five', 'flavor', 'flavorful', 'flavors', 'food', 'for', 'forever',\n",
              "       'forgot', 'forward', 'found', 'four', 'free', 'french', 'fresh',\n",
              "       'friday', 'fried', 'friend', 'friendly', 'friends', 'fries',\n",
              "       'from', 'front', 'full', 'fun', 'future', 'garlic', 'gave', 'gem',\n",
              "       'generous', 'get', 'gets', 'getting', 'girl', 'give', 'given',\n",
              "       'giving', 'glad', 'glass', 'go', 'goes', 'going', 'gone', 'good',\n",
              "       'got', 'gotten', 'grab', 'gravy', 'greasy', 'great', 'greek',\n",
              "       'green', 'greeted', 'grilled', 'group', 'guacamole', 'guess',\n",
              "       'guy', 'guys', 'gyro', 'had', 'half', 'hand', 'hands', 'happened',\n",
              "       'happy', 'hard', 'has', 'hash', 'have', 'haven', 'having', 'he',\n",
              "       'heard', 'heat', 'help', 'helpful', 'her', 'here', 'high',\n",
              "       'highly', 'him', 'his', 'hit', 'home', 'homemade', 'honestly',\n",
              "       'hope', 'horchata', 'horrible', 'hostess', 'hot', 'hotel', 'hour',\n",
              "       'hours', 'house', 'how', 'however', 'huge', 'hungry', 'husband',\n",
              "       'ice', 'iced', 'idea', 'if', 'immediately', 'impressed', 'in',\n",
              "       'included', 'including', 'incredible', 'ingredients', 'inside',\n",
              "       'instead', 'into', 'is', 'isn', 'issue', 'it', 'italian', 'item',\n",
              "       'items', 'its', 'itself', 'job', 'just', 'keep', 'kept', 'kids',\n",
              "       'kind', 'kitchen', 'knew', 'know', 'la', 'lack', 'lady', 'lamb',\n",
              "       'large', 'last', 'late', 'later', 'latte', 'least', 'leave',\n",
              "       'left', 'lemon', 'less', 'let', 'lettuce', 'level', 'life',\n",
              "       'light', 'like', 'liked', 'lime', 'limited', 'line', 'list',\n",
              "       'literally', 'little', 'live', 'll', 'lobster', 'local',\n",
              "       'location', 'locations', 'lol', 'long', 'longer', 'look', 'looked',\n",
              "       'looking', 'looks', 'lot', 'lots', 'loud', 'love', 'loved',\n",
              "       'lovely', 'low', 'lunch', 'mac', 'made', 'main', 'make', 'makes',\n",
              "       'making', 'man', 'management', 'manager', 'many', 'margarita',\n",
              "       'mask', 'masks', 'may', 'maybe', 'me', 'meal', 'meals', 'mean',\n",
              "       'meat', 'meatballs', 'meats', 'medium', 'mention', 'menu',\n",
              "       'mexican', 'might', 'milk', 'min', 'mind', 'mine', 'mins',\n",
              "       'minute', 'minutes', 'miss', 'missing', 'mix', 'mixed', 'mom',\n",
              "       'money', 'months', 'more', 'morning', 'most', 'mouth', 'moved',\n",
              "       'much', 'multiple', 'mushrooms', 'music', 'must', 'my', 'myself',\n",
              "       'name', 'near', 'need', 'needed', 'needs', 'neighborhood', 'never',\n",
              "       'new', 'next', 'nice', 'nicely', 'night', 'no', 'noodle',\n",
              "       'noodles', 'not', 'nothing', 'noticed', 'now', 'number', 'of',\n",
              "       'off', 'offer', 'offered', 'often', 'oh', 'oil', 'ok', 'okay',\n",
              "       'old', 'on', 'once', 'one', 'ones', 'onion', 'onions', 'online',\n",
              "       'only', 'open', 'opened', 'opening', 'opinion', 'option',\n",
              "       'options', 'or', 'orange', 'order', 'ordered', 'ordering',\n",
              "       'orders', 'original', 'oro', 'other', 'others', 'our', 'out',\n",
              "       'outdoor', 'outside', 'outstanding', 'over', 'overall',\n",
              "       'overpriced', 'own', 'owner', 'owners', 'packed', 'pad', 'paid',\n",
              "       'pandemic', 'parish', 'parking', 'part', 'party', 'past', 'pasta',\n",
              "       'pastor', 'pastries', 'patio', 'pay', 'paying', 'people', 'pepper',\n",
              "       'perfect', 'perfection', 'perfectly', 'person', 'phenomenal',\n",
              "       'phone', 'pick', 'picked', 'pie', 'piece', 'pieces', 'pita',\n",
              "       'pizza', 'pizzas', 'place', 'placed', 'places', 'plate', 'plates',\n",
              "       'platter', 'pleasant', 'please', 'plenty', 'plus', 'pm', 'point',\n",
              "       'polite', 'poor', 'pork', 'portion', 'portions', 'postino',\n",
              "       'potato', 'potatoes', 'prep', 'prepared', 'pretty', 'price',\n",
              "       'priced', 'prices', 'pricey', 'probably', 'problem', 'pulled',\n",
              "       'put', 'quality', 'quick', 'quickly', 'quite', 'ramen', 'ranch',\n",
              "       'raw', 're', 'read', 'ready', 'real', 'really', 'reason',\n",
              "       'reasonable', 'received', 'recently', 'recommend', 'recommended',\n",
              "       'red', 'refreshing', 'refund', 'regular', 'remember',\n",
              "       'reservation', 'reservations', 'rest', 'restaurant', 'restaurants',\n",
              "       'return', 'returning', 'review', 'reviews', 'ribs', 'rice', 'rich',\n",
              "       'right', 'road', 'roll', 'rolls', 'room', 'rude', 'run', 'sad',\n",
              "       'safe', 'said', 'salad', 'salads', 'salmon', 'salsa', 'salt',\n",
              "       'salty', 'same', 'sandwich', 'sandwiches', 'sat', 'saturday',\n",
              "       'sauce', 'sauces', 'sausage', 'savory', 'saw', 'say', 'saying',\n",
              "       'says', 'seafood', 'seasoned', 'seasoning', 'seated', 'seating',\n",
              "       'second', 'see', 'seem', 'seemed', 'seems', 'seen', 'selection',\n",
              "       'seriously', 'serve', 'served', 'server', 'servers', 'service',\n",
              "       'serving', 'several', 'share', 'shared', 'she', 'shop', 'short',\n",
              "       'should', 'show', 'shrimp', 'side', 'sides', 'sign', 'simple',\n",
              "       'since', 'single', 'sit', 'sitting', 'size', 'slice', 'slices',\n",
              "       'slow', 'small', 'so', 'social', 'soft', 'soggy', 'some',\n",
              "       'someone', 'something', 'sometimes', 'son', 'sonoran', 'soon',\n",
              "       'sorry', 'soup', 'sour', 'space', 'special', 'specials', 'spice',\n",
              "       'spicy', 'spinach', 'split', 'spot', 'staff', 'star', 'stars',\n",
              "       'start', 'started', 'stay', 'steak', 'still', 'stop', 'stopped',\n",
              "       'store', 'street', 'stuff', 'style', 'such', 'sunday', 'super',\n",
              "       'support', 'sure', 'surprised', 'sushi', 'sweet', 'table',\n",
              "       'tables', 'taco', 'tacos', 'take', 'taken', 'takeout', 'taking',\n",
              "       'talk', 'talking', 'tamales', 'taste', 'tasted', 'tastes',\n",
              "       'tasting', 'tasty', 'tea', 'tell', 'tender', 'terrible', 'texture',\n",
              "       'thai', 'than', 'thank', 'thanks', 'that', 'the', 'their', 'them',\n",
              "       'then', 'there', 'these', 'they', 'thick', 'thin', 'thing',\n",
              "       'things', 'think', 'thinking', 'this', 'those', 'though',\n",
              "       'thought', 'three', 'through', 'thru', 'time', 'times', 'tiny',\n",
              "       'tip', 'to', 'toast', 'today', 'tofu', 'together', 'told',\n",
              "       'tomato', 'tonight', 'too', 'took', 'top', 'toppings', 'tortilla',\n",
              "       'tortillas', 'totally', 'tough', 'town', 'traditional', 'treat',\n",
              "       'tried', 'trip', 'truly', 'try', 'trying', 'tucson', 'tumerico',\n",
              "       'twice', 'two', 'type', 'under', 'understand', 'unfortunately',\n",
              "       'unique', 'until', 'up', 'update', 'upon', 'us', 'use', 'used',\n",
              "       'usual', 'usually', 'valley', 'value', 'variety', 've', 'vegan',\n",
              "       'vegetables', 'vegetarian', 'veggie', 'veggies', 'very', 'vibe',\n",
              "       'visit', 'visited', 'visiting', 'wait', 'waited', 'waiter',\n",
              "       'waiting', 'waitress', 'walk', 'walked', 'want', 'wanted', 'warm',\n",
              "       'was', 'wasn', 'water', 'way', 'we', 'wearing', 'week', 'weekend',\n",
              "       'welcoming', 'well', 'went', 'were', 'weren', 'what', 'when',\n",
              "       'where', 'which', 'while', 'white', 'who', 'whole', 'why', 'wife',\n",
              "       'will', 'window', 'wine', 'wings', 'wish', 'with', 'without',\n",
              "       'won', 'wonderful', 'work', 'workers', 'working', 'world', 'worst',\n",
              "       'worth', 'would', 'wouldn', 'wow', 'wrong', 'year', 'years',\n",
              "       'yelp', 'yes', 'yesterday', 'yet', 'you', 'young', 'your',\n",
              "       'yourself', 'yum', 'yummy'], dtype=object)"
            ]
          },
          "execution_count": 4,
          "metadata": {},
          "output_type": "execute_result"
        }
      ],
      "source": [
        "X = df['text']\n",
        "y = df['vader_label']\n",
        "\n",
        "X_train, X_test, y_train, y_test = train_test_split(X, y, test_size=0.2, random_state=42)\n",
        "\n",
        "vectorizer = CountVectorizer(max_features=1000)\n",
        "X_train_vectorized = vectorizer.fit_transform(X_train)\n",
        "X_test_vectorized = vectorizer.transform(X_test)\n",
        "vectorizer.get_feature_names_out()  # Unique words in vocabulary"
      ]
    },
    {
      "cell_type": "markdown",
      "metadata": {},
      "source": [
        "* Performed Train & Test Data Split.\n",
        "* Implemented CountVectorizer and Printed the Tokens stored"
      ]
    },
    {
      "cell_type": "markdown",
      "metadata": {},
      "source": [
        "## Code Cell 4 (10%) - Describe the processed data"
      ]
    },
    {
      "cell_type": "code",
      "execution_count": 5,
      "metadata": {
        "colab": {
          "base_uri": "https://localhost:8080/"
        },
        "id": "5KTT1I5-9YDD",
        "outputId": "c613944a-011d-4a9a-cead-32fabee5b75e"
      },
      "outputs": [
        {
          "name": "stdout",
          "output_type": "stream",
          "text": [
            "Number of tokens: 556995\n",
            "Number of unique tokens: 1000\n",
            "Number of unique customers: 6830\n",
            "Average tokens per review: 69.62\n",
            "Sparsity of the matrix: 95.31%\n"
          ]
        }
      ],
      "source": [
        "print(f\"Number of tokens: {X_train_vectorized.sum()}\")\n",
        "print(f\"Number of unique tokens: {len(vectorizer.get_feature_names_out())}\")\n",
        "print(f\"Number of unique customers: {df['user_id'].nunique()}\")\n",
        "\n",
        "print(f\"Average tokens per review: {X_train_vectorized.sum() / X_train_vectorized.shape[0]:.2f}\")\n",
        "print(f\"Sparsity of the matrix: {100.0 * (1.0 - X_train_vectorized.nnz / (X_train_vectorized.shape[0] * X_train_vectorized.shape[1])):.2f}%\")\n"
      ]
    },
    {
      "cell_type": "markdown",
      "metadata": {},
      "source": [
        "## Code Cells 5 (10%) - Apply naïve Bayes classification to Train data."
      ]
    },
    {
      "cell_type": "code",
      "execution_count": 6,
      "metadata": {
        "colab": {
          "base_uri": "https://localhost:8080/"
        },
        "id": "xUytfAl29YFo",
        "outputId": "af59c4b0-f219-46aa-ade2-ff14d5dba28e"
      },
      "outputs": [
        {
          "name": "stdout",
          "output_type": "stream",
          "text": [
            "Naive Bayes Classification Report:\n",
            "              precision    recall  f1-score   support\n",
            "\n",
            "    negative       0.53      0.74      0.62       293\n",
            "     neutral       0.09      0.03      0.04        35\n",
            "    positive       0.94      0.89      0.92      1672\n",
            "\n",
            "    accuracy                           0.86      2000\n",
            "   macro avg       0.52      0.55      0.53      2000\n",
            "weighted avg       0.87      0.86      0.86      2000\n",
            "\n",
            "Accuracy: 0.8560\n"
          ]
        }
      ],
      "source": [
        "nb_classifier = MultinomialNB()\n",
        "nb_classifier.fit(X_train_vectorized, y_train)\n",
        "\n",
        "y_pred_nb = nb_classifier.predict(X_test_vectorized)\n",
        "\n",
        "# Performance Report\n",
        "print(\"Naive Bayes Classification Report:\")\n",
        "print(classification_report(y_test, y_pred_nb))\n",
        "print(f\"Accuracy: {accuracy_score(y_test, y_pred_nb):.4f}\")\n"
      ]
    },
    {
      "cell_type": "markdown",
      "metadata": {},
      "source": [
        "Applied Naïve Bayes Classification on Train data and got an accuracy of 85%."
      ]
    },
    {
      "cell_type": "markdown",
      "metadata": {},
      "source": [
        "## Code Cell 6 (10%) - Apply support vector machines (SVM) classification to Train data."
      ]
    },
    {
      "cell_type": "code",
      "execution_count": 7,
      "metadata": {
        "colab": {
          "base_uri": "https://localhost:8080/"
        },
        "id": "fCiwbQy49YIH",
        "outputId": "2eda4525-fdb4-48f1-c449-f41430263454"
      },
      "outputs": [
        {
          "name": "stdout",
          "output_type": "stream",
          "text": [
            "SVM Classification Report:\n",
            "              precision    recall  f1-score   support\n",
            "\n",
            "    negative       0.60      0.68      0.64       293\n",
            "     neutral       0.23      0.14      0.18        35\n",
            "    positive       0.94      0.93      0.93      1672\n",
            "\n",
            "    accuracy                           0.88      2000\n",
            "   macro avg       0.59      0.58      0.58      2000\n",
            "weighted avg       0.88      0.88      0.88      2000\n",
            "\n",
            "Accuracy: 0.8760\n"
          ]
        }
      ],
      "source": [
        "svm_classifier = SVC(kernel='linear')\n",
        "svm_classifier.fit(X_train_vectorized, y_train)\n",
        "\n",
        "# Predict on test set\n",
        "y_pred_svm = svm_classifier.predict(X_test_vectorized)\n",
        "\n",
        "# Performance Report\n",
        "print(\"SVM Classification Report:\")\n",
        "print(classification_report(y_test, y_pred_svm))\n",
        "print(f\"Accuracy: {accuracy_score(y_test, y_pred_svm):.4f}\")\n"
      ]
    },
    {
      "cell_type": "markdown",
      "metadata": {},
      "source": [
        "Applied Support Vector Machines Classification on Train data and got an accuracy of 87%."
      ]
    },
    {
      "cell_type": "markdown",
      "metadata": {},
      "source": [
        "## Code Cell 7 (10%) - Reload the data & perform TF-IDF quantification on the processed data."
      ]
    },
    {
      "cell_type": "code",
      "execution_count": 8,
      "metadata": {
        "id": "Q7TINXgr9YKP"
      },
      "outputs": [],
      "source": [
        "df = pd.read_csv('restaurant_reviews_az.csv', nrows=10000)\n",
        "\n",
        "df['text'] = df['text'].fillna('')  # Fill NaN values\n",
        "df['text'] = df['text'].str.lower()  # Convert to lowercase\n",
        "\n",
        "analyzer = SentimentIntensityAnalyzer()\n",
        "\n",
        "def get_sentiment(text):\n",
        "    return analyzer.polarity_scores(text)['compound']\n",
        "\n",
        "df['vader_sentiment'] = df['text'].apply(get_sentiment)\n",
        "\n",
        "df['vader_label'] = pd.cut(df['vader_sentiment'], bins=[-1, -0.05, 0.05, 1], labels=['negative', 'neutral', 'positive'])\n",
        "\n",
        "tfidf_vectorizer = TfidfVectorizer(max_features=1000)\n",
        "X_tfidf = tfidf_vectorizer.fit_transform(df['text'])\n",
        "\n",
        "X_train_tfidf, X_test_tfidf, y_train, y_test = train_test_split(X_tfidf, df['vader_label'], test_size=0.2, random_state=42)"
      ]
    },
    {
      "cell_type": "markdown",
      "metadata": {},
      "source": [
        "* Got Polarity scores using the SenteimentIntensityAnalyser and then classified the text into negative, positive or neutral sentiments.\n",
        "* Implemented tfidf vectorizer to store the count of words. Then performed train test split x being the tfidf split and y being the sentiment labels"
      ]
    },
    {
      "cell_type": "markdown",
      "metadata": {},
      "source": [
        "## Code Cell 8 (10%) - Apply logistic regression to Train data"
      ]
    },
    {
      "cell_type": "code",
      "execution_count": 9,
      "metadata": {
        "colab": {
          "base_uri": "https://localhost:8080/"
        },
        "id": "X5M26jQ49YMw",
        "outputId": "a6c9916c-979b-4167-bc1e-1e254fb216ab"
      },
      "outputs": [
        {
          "name": "stdout",
          "output_type": "stream",
          "text": [
            "Logistic Regression Classification Report:\n",
            "              precision    recall  f1-score   support\n",
            "\n",
            "    negative       0.72      0.60      0.65       293\n",
            "     neutral       0.00      0.00      0.00        35\n",
            "    positive       0.92      0.97      0.94      1672\n",
            "\n",
            "    accuracy                           0.90      2000\n",
            "   macro avg       0.55      0.52      0.53      2000\n",
            "weighted avg       0.87      0.90      0.88      2000\n",
            "\n",
            "Accuracy: 0.8955\n"
          ]
        },
        {
          "name": "stderr",
          "output_type": "stream",
          "text": [
            "/Library/Frameworks/Python.framework/Versions/3.12/lib/python3.12/site-packages/sklearn/metrics/_classification.py:1531: UndefinedMetricWarning: Precision is ill-defined and being set to 0.0 in labels with no predicted samples. Use `zero_division` parameter to control this behavior.\n",
            "  _warn_prf(average, modifier, f\"{metric.capitalize()} is\", len(result))\n",
            "/Library/Frameworks/Python.framework/Versions/3.12/lib/python3.12/site-packages/sklearn/metrics/_classification.py:1531: UndefinedMetricWarning: Precision is ill-defined and being set to 0.0 in labels with no predicted samples. Use `zero_division` parameter to control this behavior.\n",
            "  _warn_prf(average, modifier, f\"{metric.capitalize()} is\", len(result))\n",
            "/Library/Frameworks/Python.framework/Versions/3.12/lib/python3.12/site-packages/sklearn/metrics/_classification.py:1531: UndefinedMetricWarning: Precision is ill-defined and being set to 0.0 in labels with no predicted samples. Use `zero_division` parameter to control this behavior.\n",
            "  _warn_prf(average, modifier, f\"{metric.capitalize()} is\", len(result))\n"
          ]
        }
      ],
      "source": [
        "lr_classifier = LogisticRegression(random_state=42, max_iter=1000)\n",
        "lr_classifier.fit(X_train_tfidf, y_train)\n",
        "\n",
        "y_pred_lr = lr_classifier.predict(X_test_tfidf)\n",
        "\n",
        "print(\"Logistic Regression Classification Report:\")\n",
        "print(classification_report(y_test, y_pred_lr))\n",
        "print(f\"Accuracy: {accuracy_score(y_test, y_pred_lr):.4f}\")"
      ]
    },
    {
      "cell_type": "markdown",
      "metadata": {},
      "source": [
        "Applied Logistic Regression on the Train Data and got an accuracy of 89%"
      ]
    },
    {
      "cell_type": "markdown",
      "metadata": {
        "id": "7Z3j3iGi-Gce"
      },
      "source": [
        "## Text Cell 9 (5%) - Compare and conclude your observations on the performance of lexicon-based sentiment analysis approach and different machine learning models."
      ]
    },
    {
      "cell_type": "markdown",
      "metadata": {},
      "source": [
        "### Comparison of Sentiment Analysis Approaches\n",
        "\n",
        "1. **Lexicon-based Approach (VADER Sentiment Analysis)**  \n",
        "   - VADER is a rule-based sentiment analysis tool that assigns polarity scores to text.\n",
        "   - It works well for general sentiment detection but may struggle with nuanced expressions and domain-specific sentiment.  \n",
        "\n",
        "2. **Naïve Bayes Classification**  \n",
        "   - Model Accuracy = **85.60%**.  \n",
        "   - Naïve Bayes is computationally efficient and performs well on text data. However, it assumes feature independence, which may not always hold for natural language processing tasks.\n",
        "\n",
        "3. **Support Vector Machine (SVM) Classification**  \n",
        "   - Model Accuracy = **87.60%**.  \n",
        "   - SVM provides a powerful decision boundary for text classification. However, training can be slower, especially with larger datasets.\n",
        "\n",
        "4. **Logistic Regression (TF-IDF)**  \n",
        "   - Model Accuracy = **89.55%**.  \n",
        "   - Logistic Regression is interpretable and works well with TF-IDF transformed data. It can generalize well with a sufficient amount of training data.\n",
        "\n",
        "### **Observations and Conclusion**\n",
        "- **Lexicon-based approaches (VADER)** are useful for quick analysis but may not capture contextual meanings.\n",
        "- **Machine Learning approaches (Naïve Bayes, SVM, and Logistic Regression)** generally provide better accuracy.\n",
        "- **TF-IDF performed better than Naïve Bayes** since it gives more importance to significant words.\n",
        "- **Logistic Regression and SVM performed the best**, showing the effectiveness of machine learning models over lexicon-based sentiment analysis.\n",
        "\n",
        "**Logistic Regression (TF-IDF)** appears to be the best model based on accuracy and generalization ability."
      ]
    },
    {
      "cell_type": "markdown",
      "metadata": {},
      "source": [
        "## Code Cell 10 (10%) - Apply the trained logistic regression model to predict sentiment on the three customer reviews listed in Input 2."
      ]
    },
    {
      "cell_type": "code",
      "execution_count": 10,
      "metadata": {
        "colab": {
          "base_uri": "https://localhost:8080/"
        },
        "id": "7dRxioj_9YSH",
        "outputId": "85914b75-87bd-4ba2-dfdb-9ff0da87861b"
      },
      "outputs": [
        {
          "name": "stdout",
          "output_type": "stream",
          "text": [
            "Review 1:\n",
            "Text: The service is good, but location is hard to find. Sanitation is not very good with old facilities. Food served tasted extremely fishy, making us difficult to even finish it.\n",
            "Predicted sentiment: positive\n",
            "Probabilities: Negative: 0.4494, Neutral: 0.0301, Positive: 0.5204\n",
            "\n",
            "Review 2:\n",
            "Text: The restaurant is definitely one of my favorites and of my family as well. I was especially impressed with my visit a few days ago. The place is clean, and you just need to wait for fewer than 10 minutes to get food served. And of course, the food is absolutely delicious!\n",
            "Predicted sentiment: positive\n",
            "Probabilities: Negative: 0.0180, Neutral: 0.0030, Positive: 0.9789\n",
            "\n",
            "Review 3:\n",
            "Text: I appreciated the friendly staff. The food was good, not amazing. The service was not prompt but almost acceptable. A reliable spot for a regular meal, but nothing extraordinary.\n",
            "Predicted sentiment: positive\n",
            "Probabilities: Negative: 0.0555, Neutral: 0.0082, Positive: 0.9364\n",
            "\n"
          ]
        }
      ],
      "source": [
        "new_reviews = [\n",
        "    \"The service is good, but location is hard to find. Sanitation is not very good with old facilities. Food served tasted extremely fishy, making us difficult to even finish it.\",\n",
        "    \"The restaurant is definitely one of my favorites and of my family as well. I was especially impressed with my visit a few days ago. The place is clean, and you just need to wait for fewer than 10 minutes to get food served. And of course, the food is absolutely delicious!\",\n",
        "    \"I appreciated the friendly staff. The food was good, not amazing. The service was not prompt but almost acceptable. A reliable spot for a regular meal, but nothing extraordinary.\"\n",
        "]\n",
        "\n",
        "# Transform new reviews using TF-IDF vectorizer\n",
        "new_reviews_tfidf = tfidf_vectorizer.transform(new_reviews)\n",
        "\n",
        "# Predict sentiments for new reviews\n",
        "new_predictions = lr_classifier.predict(new_reviews_tfidf)\n",
        "new_probabilities = lr_classifier.predict_proba(new_reviews_tfidf)\n",
        "\n",
        "# Print results\n",
        "for i, (review, prediction, probabilities) in enumerate(zip(new_reviews, new_predictions, new_probabilities)):\n",
        "    print(f\"Review {i+1}:\")\n",
        "    print(f\"Text: {review}\")\n",
        "    print(f\"Predicted sentiment: {prediction}\")\n",
        "    print(f\"Probabilities: Negative: {probabilities[0]:.4f}, Neutral: {probabilities[1]:.4f}, Positive: {probabilities[2]:.4f}\")\n",
        "    print()\n"
      ]
    },
    {
      "cell_type": "markdown",
      "metadata": {},
      "source": [
        "Applied the trained Logistic Regression model on 3 cutomer Reviews and predicted the probabilities of the sentiments asscociated."
      ]
    },
    {
      "cell_type": "markdown",
      "metadata": {},
      "source": [
        "## Text Cell 11 (5%) - Classify these reviews in Input 2 into positive, neutral, or negative sentiments. Include your reasoning of classification. Comment on the classification results for this new task."
      ]
    },
    {
      "cell_type": "markdown",
      "metadata": {},
      "source": [
        "* Review 1 has mixed sentiments as it has both positive and negative statements. This can be seen in the probabilities as there is a 52% probability for positive and 45% probability for negative. The model predicts a positive sentiment for the review becuase of the higher probability.\n",
        "* Review 2 and Review 3 have strong probabilities for a positive sentiment and that is why the model also predicts a positive sentiment for both these reviews."
      ]
    },
    {
      "cell_type": "markdown",
      "metadata": {},
      "source": [
        "## Text Cell 12 (5%) - Acknowledge if you have used any GenAI tools in this assignment and anyone you have worked together with on this assignment."
      ]
    },
    {
      "cell_type": "markdown",
      "metadata": {},
      "source": [
        "I acknowledge that I used AI tools, including ChatGPT, to assist in generating code and structuring the observations for this assignment. These tools were used for educational purposes to enhance my understanding of text processing techniques and NLP concepts. I also confirm that I completed the analysis and interpretations independently."
      ]
    },
    {
      "cell_type": "code",
      "execution_count": 1,
      "metadata": {},
      "outputs": [
        {
          "name": "stdout",
          "output_type": "stream",
          "text": [
            "[NbConvertApp] Converting notebook /Users/rhy/Library/CloudStorage/OneDrive-ArizonaStateUniversity/ASU/SEM 2/CIS 509 Analytics Unstructured Data/Lab Assignment 2/LA2_Shah_Rhythm.ipynb to html\n",
            "[NbConvertApp] WARNING | Alternative text is missing on 1 image(s).\n",
            "[NbConvertApp] Writing 367582 bytes to /Users/rhy/Library/CloudStorage/OneDrive-ArizonaStateUniversity/ASU/SEM 2/CIS 509 Analytics Unstructured Data/Lab Assignment 2/LA2_Shah_Rhythm.html\n"
          ]
        }
      ],
      "source": [
        "!jupyter nbconvert \"/Users/rhy/Library/CloudStorage/OneDrive-ArizonaStateUniversity/ASU/SEM 2/CIS 509 Analytics Unstructured Data/Lab Assignment 2/LA2_Shah_Rhythm.ipynb\" --to html"
      ]
    }
  ],
  "metadata": {
    "colab": {
      "provenance": []
    },
    "kernelspec": {
      "display_name": "Python 3",
      "name": "python3"
    },
    "language_info": {
      "codemirror_mode": {
        "name": "ipython",
        "version": 3
      },
      "file_extension": ".py",
      "mimetype": "text/x-python",
      "name": "python",
      "nbconvert_exporter": "python",
      "pygments_lexer": "ipython3",
      "version": "3.12.5"
    }
  },
  "nbformat": 4,
  "nbformat_minor": 0
}
